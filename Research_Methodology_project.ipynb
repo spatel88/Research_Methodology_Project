{
  "nbformat": 4,
  "nbformat_minor": 0,
  "metadata": {
    "colab": {
      "name": "Research_Methodology_project.ipynb",
      "provenance": []
    },
    "kernelspec": {
      "name": "python3",
      "display_name": "Python 3"
    },
    "language_info": {
      "name": "python"
    }
  },
  "cells": [
    {
      "cell_type": "markdown",
      "metadata": {
        "id": "dsNz41WgE9fN"
      },
      "source": [
        "#Libraries"
      ]
    },
    {
      "cell_type": "code",
      "metadata": {
        "colab": {
          "base_uri": "https://localhost:8080/"
        },
        "id": "ktP-Y6wv_iUK",
        "outputId": "360a4a45-e5c0-41fb-8060-e21a4b0e2d64"
      },
      "source": [
        "import pandas as pd\n",
        "import numpy as np\n",
        "from google.colab import drive\n",
        "drive.mount('/content/drive')\n",
        "from sklearn.model_selection import train_test_split\n",
        "from sklearn.naive_bayes import GaussianNB\n",
        "from sklearn.metrics import classification_report, confusion_matrix\n",
        "import seaborn as sns\n",
        "from sklearn.svm import LinearSVC, SVC\n",
        "from sklearn.pipeline import make_pipeline\n",
        "from sklearn.preprocessing import StandardScaler\n",
        "from sklearn.linear_model import LogisticRegression\n",
        "from xgboost import XGBClassifier\n",
        "from sklearn.model_selection import train_test_split\n",
        "from sklearn.neighbors import KNeighborsClassifier\n",
        "import matplotlib.pyplot as plt"
      ],
      "execution_count": null,
      "outputs": [
        {
          "output_type": "stream",
          "name": "stdout",
          "text": [
            "Drive already mounted at /content/drive; to attempt to forcibly remount, call drive.mount(\"/content/drive\", force_remount=True).\n"
          ]
        }
      ]
    },
    {
      "cell_type": "markdown",
      "metadata": {
        "id": "WWeYHXsCFCC3"
      },
      "source": [
        "#Dataset path Shrey"
      ]
    },
    {
      "cell_type": "code",
      "metadata": {
        "colab": {
          "base_uri": "https://localhost:8080/",
          "height": 417
        },
        "id": "O2fLKYs-FGE4",
        "outputId": "8a529c93-e4a0-46bc-f935-b08d54a7c251"
      },
      "source": [
        "df = pd.read_csv('/content/drive/MyDrive/research_methodology/heart.csv')\n",
        "df = df.sample(frac = 1)\n",
        "df"
      ],
      "execution_count": null,
      "outputs": [
        {
          "output_type": "execute_result",
          "data": {
            "text/html": [
              "<div>\n",
              "<style scoped>\n",
              "    .dataframe tbody tr th:only-of-type {\n",
              "        vertical-align: middle;\n",
              "    }\n",
              "\n",
              "    .dataframe tbody tr th {\n",
              "        vertical-align: top;\n",
              "    }\n",
              "\n",
              "    .dataframe thead th {\n",
              "        text-align: right;\n",
              "    }\n",
              "</style>\n",
              "<table border=\"1\" class=\"dataframe\">\n",
              "  <thead>\n",
              "    <tr style=\"text-align: right;\">\n",
              "      <th></th>\n",
              "      <th>age</th>\n",
              "      <th>sex</th>\n",
              "      <th>cp</th>\n",
              "      <th>trestbps</th>\n",
              "      <th>chol</th>\n",
              "      <th>fbs</th>\n",
              "      <th>restecg</th>\n",
              "      <th>thalach</th>\n",
              "      <th>exang</th>\n",
              "      <th>oldpeak</th>\n",
              "      <th>slope</th>\n",
              "      <th>ca</th>\n",
              "      <th>thal</th>\n",
              "      <th>target</th>\n",
              "    </tr>\n",
              "  </thead>\n",
              "  <tbody>\n",
              "    <tr>\n",
              "      <th>216</th>\n",
              "      <td>62</td>\n",
              "      <td>0</td>\n",
              "      <td>2</td>\n",
              "      <td>130</td>\n",
              "      <td>263</td>\n",
              "      <td>0</td>\n",
              "      <td>1</td>\n",
              "      <td>97</td>\n",
              "      <td>0</td>\n",
              "      <td>1.2</td>\n",
              "      <td>1</td>\n",
              "      <td>1</td>\n",
              "      <td>3</td>\n",
              "      <td>0</td>\n",
              "    </tr>\n",
              "    <tr>\n",
              "      <th>7</th>\n",
              "      <td>44</td>\n",
              "      <td>1</td>\n",
              "      <td>1</td>\n",
              "      <td>120</td>\n",
              "      <td>263</td>\n",
              "      <td>0</td>\n",
              "      <td>1</td>\n",
              "      <td>173</td>\n",
              "      <td>0</td>\n",
              "      <td>0.0</td>\n",
              "      <td>2</td>\n",
              "      <td>0</td>\n",
              "      <td>3</td>\n",
              "      <td>1</td>\n",
              "    </tr>\n",
              "    <tr>\n",
              "      <th>50</th>\n",
              "      <td>51</td>\n",
              "      <td>0</td>\n",
              "      <td>2</td>\n",
              "      <td>130</td>\n",
              "      <td>256</td>\n",
              "      <td>0</td>\n",
              "      <td>0</td>\n",
              "      <td>149</td>\n",
              "      <td>0</td>\n",
              "      <td>0.5</td>\n",
              "      <td>2</td>\n",
              "      <td>0</td>\n",
              "      <td>2</td>\n",
              "      <td>1</td>\n",
              "    </tr>\n",
              "    <tr>\n",
              "      <th>217</th>\n",
              "      <td>63</td>\n",
              "      <td>1</td>\n",
              "      <td>0</td>\n",
              "      <td>130</td>\n",
              "      <td>330</td>\n",
              "      <td>1</td>\n",
              "      <td>0</td>\n",
              "      <td>132</td>\n",
              "      <td>1</td>\n",
              "      <td>1.8</td>\n",
              "      <td>2</td>\n",
              "      <td>3</td>\n",
              "      <td>3</td>\n",
              "      <td>0</td>\n",
              "    </tr>\n",
              "    <tr>\n",
              "      <th>265</th>\n",
              "      <td>66</td>\n",
              "      <td>1</td>\n",
              "      <td>0</td>\n",
              "      <td>112</td>\n",
              "      <td>212</td>\n",
              "      <td>0</td>\n",
              "      <td>0</td>\n",
              "      <td>132</td>\n",
              "      <td>1</td>\n",
              "      <td>0.1</td>\n",
              "      <td>2</td>\n",
              "      <td>1</td>\n",
              "      <td>2</td>\n",
              "      <td>0</td>\n",
              "    </tr>\n",
              "    <tr>\n",
              "      <th>...</th>\n",
              "      <td>...</td>\n",
              "      <td>...</td>\n",
              "      <td>...</td>\n",
              "      <td>...</td>\n",
              "      <td>...</td>\n",
              "      <td>...</td>\n",
              "      <td>...</td>\n",
              "      <td>...</td>\n",
              "      <td>...</td>\n",
              "      <td>...</td>\n",
              "      <td>...</td>\n",
              "      <td>...</td>\n",
              "      <td>...</td>\n",
              "      <td>...</td>\n",
              "    </tr>\n",
              "    <tr>\n",
              "      <th>45</th>\n",
              "      <td>52</td>\n",
              "      <td>1</td>\n",
              "      <td>1</td>\n",
              "      <td>120</td>\n",
              "      <td>325</td>\n",
              "      <td>0</td>\n",
              "      <td>1</td>\n",
              "      <td>172</td>\n",
              "      <td>0</td>\n",
              "      <td>0.2</td>\n",
              "      <td>2</td>\n",
              "      <td>0</td>\n",
              "      <td>2</td>\n",
              "      <td>1</td>\n",
              "    </tr>\n",
              "    <tr>\n",
              "      <th>33</th>\n",
              "      <td>54</td>\n",
              "      <td>1</td>\n",
              "      <td>2</td>\n",
              "      <td>125</td>\n",
              "      <td>273</td>\n",
              "      <td>0</td>\n",
              "      <td>0</td>\n",
              "      <td>152</td>\n",
              "      <td>0</td>\n",
              "      <td>0.5</td>\n",
              "      <td>0</td>\n",
              "      <td>1</td>\n",
              "      <td>2</td>\n",
              "      <td>1</td>\n",
              "    </tr>\n",
              "    <tr>\n",
              "      <th>122</th>\n",
              "      <td>41</td>\n",
              "      <td>0</td>\n",
              "      <td>2</td>\n",
              "      <td>112</td>\n",
              "      <td>268</td>\n",
              "      <td>0</td>\n",
              "      <td>0</td>\n",
              "      <td>172</td>\n",
              "      <td>1</td>\n",
              "      <td>0.0</td>\n",
              "      <td>2</td>\n",
              "      <td>0</td>\n",
              "      <td>2</td>\n",
              "      <td>1</td>\n",
              "    </tr>\n",
              "    <tr>\n",
              "      <th>72</th>\n",
              "      <td>29</td>\n",
              "      <td>1</td>\n",
              "      <td>1</td>\n",
              "      <td>130</td>\n",
              "      <td>204</td>\n",
              "      <td>0</td>\n",
              "      <td>0</td>\n",
              "      <td>202</td>\n",
              "      <td>0</td>\n",
              "      <td>0.0</td>\n",
              "      <td>2</td>\n",
              "      <td>0</td>\n",
              "      <td>2</td>\n",
              "      <td>1</td>\n",
              "    </tr>\n",
              "    <tr>\n",
              "      <th>130</th>\n",
              "      <td>54</td>\n",
              "      <td>0</td>\n",
              "      <td>2</td>\n",
              "      <td>160</td>\n",
              "      <td>201</td>\n",
              "      <td>0</td>\n",
              "      <td>1</td>\n",
              "      <td>163</td>\n",
              "      <td>0</td>\n",
              "      <td>0.0</td>\n",
              "      <td>2</td>\n",
              "      <td>1</td>\n",
              "      <td>2</td>\n",
              "      <td>1</td>\n",
              "    </tr>\n",
              "  </tbody>\n",
              "</table>\n",
              "<p>303 rows × 14 columns</p>\n",
              "</div>"
            ],
            "text/plain": [
              "     age  sex  cp  trestbps  chol  fbs  ...  exang  oldpeak  slope  ca  thal  target\n",
              "216   62    0   2       130   263    0  ...      0      1.2      1   1     3       0\n",
              "7     44    1   1       120   263    0  ...      0      0.0      2   0     3       1\n",
              "50    51    0   2       130   256    0  ...      0      0.5      2   0     2       1\n",
              "217   63    1   0       130   330    1  ...      1      1.8      2   3     3       0\n",
              "265   66    1   0       112   212    0  ...      1      0.1      2   1     2       0\n",
              "..   ...  ...  ..       ...   ...  ...  ...    ...      ...    ...  ..   ...     ...\n",
              "45    52    1   1       120   325    0  ...      0      0.2      2   0     2       1\n",
              "33    54    1   2       125   273    0  ...      0      0.5      0   1     2       1\n",
              "122   41    0   2       112   268    0  ...      1      0.0      2   0     2       1\n",
              "72    29    1   1       130   204    0  ...      0      0.0      2   0     2       1\n",
              "130   54    0   2       160   201    0  ...      0      0.0      2   1     2       1\n",
              "\n",
              "[303 rows x 14 columns]"
            ]
          },
          "metadata": {},
          "execution_count": 22
        }
      ]
    },
    {
      "cell_type": "markdown",
      "metadata": {
        "id": "L8PkScNkFOV6"
      },
      "source": [
        "#Data Preprocessing"
      ]
    },
    {
      "cell_type": "code",
      "metadata": {
        "colab": {
          "base_uri": "https://localhost:8080/"
        },
        "id": "9GG5-q6wFhEZ",
        "outputId": "706a43b8-3044-4363-87c6-4922930f9e0a"
      },
      "source": [
        "print(len(df))\n",
        "df = df.dropna()\n",
        "print(len(df))"
      ],
      "execution_count": null,
      "outputs": [
        {
          "output_type": "stream",
          "name": "stdout",
          "text": [
            "303\n",
            "303\n"
          ]
        }
      ]
    },
    {
      "cell_type": "code",
      "metadata": {
        "colab": {
          "base_uri": "https://localhost:8080/"
        },
        "id": "Gn4Xe03UyUnS",
        "outputId": "cae3be18-0869-4406-e0e1-661316157397"
      },
      "source": [
        "df.shape"
      ],
      "execution_count": null,
      "outputs": [
        {
          "output_type": "execute_result",
          "data": {
            "text/plain": [
              "(303, 14)"
            ]
          },
          "metadata": {},
          "execution_count": 25
        }
      ]
    },
    {
      "cell_type": "markdown",
      "metadata": {
        "id": "dJa2U2HYFhi6"
      },
      "source": [
        "#Data Normalization......... Converting dataset values between 0-1 because it  maintain the general distribution and ratios in the source data..\n"
      ]
    },
    {
      "cell_type": "code",
      "metadata": {
        "id": "UTdmbGaXFk0G"
      },
      "source": [
        "def normalization(data):\n",
        "  x_min = min(data)\n",
        "  x_max = max(data)\n",
        "  \n",
        "  norm_x1 = []\n",
        "  \n",
        "  for i in data:\n",
        "    j = (i - x_min)/(x_max - x_min)\n",
        "    norm_x1.append(j)\n",
        "  return norm_x1"
      ],
      "execution_count": null,
      "outputs": []
    },
    {
      "cell_type": "code",
      "metadata": {
        "id": "3qrwJ2vRYQaF"
      },
      "source": [
        "age = normalization(df['age'])\n",
        "sex = df['sex']\n",
        "cp = normalization(df['cp'])\n",
        "trestbps = normalization(df['trestbps'])\n",
        "chol = normalization(df['chol'])\n",
        "fbs = df['fbs']\n",
        "restecg = df['restecg']\n",
        "thalach = normalization(df['thalach'])\n",
        "exang = df['exang']\n",
        "oldpeak = normalization(df['oldpeak'])\n",
        "slope = normalization(df['slope'])\n",
        "ca = normalization(df['ca'])\n",
        "thal = normalization(df['thal'])\n",
        "target = df['target']"
      ],
      "execution_count": null,
      "outputs": []
    },
    {
      "cell_type": "markdown",
      "metadata": {
        "id": "AnXwkz5JrbH9"
      },
      "source": [
        "#creating dataframe"
      ]
    },
    {
      "cell_type": "code",
      "metadata": {
        "id": "2iQLqsPgrahD"
      },
      "source": [
        "dataset = np.hstack((\n",
        "    np.vstack((age)),\n",
        "    np.vstack((sex)),\n",
        "    np.vstack((cp)),\n",
        "    np.vstack((trestbps)),\n",
        "    np.vstack((chol)),\n",
        "    np.vstack((fbs)),\n",
        "    np.vstack((restecg)),\n",
        "    np.vstack((thalach)),\n",
        "    np.vstack((exang)),\n",
        "    np.vstack((oldpeak)),\n",
        "    np.vstack((slope)),\n",
        "    np.vstack((ca)),\n",
        "    np.vstack((thal)),\n",
        "    np.vstack((target))\n",
        "))"
      ],
      "execution_count": null,
      "outputs": []
    },
    {
      "cell_type": "code",
      "metadata": {
        "id": "0tS5dwMkyNdO"
      },
      "source": [
        "df = pd.DataFrame(dataset,columns=['age','sex','cp','trestbps','chol','fbs','restecg','thalach','exang','oldpeak','slope','ca','thal','target'])"
      ],
      "execution_count": null,
      "outputs": []
    },
    {
      "cell_type": "code",
      "metadata": {
        "colab": {
          "base_uri": "https://localhost:8080/",
          "height": 417
        },
        "id": "bkeSN0BNyhN-",
        "outputId": "05bd4726-a655-4904-dc77-c4f42a83bbe7"
      },
      "source": [
        "df"
      ],
      "execution_count": null,
      "outputs": [
        {
          "output_type": "execute_result",
          "data": {
            "text/html": [
              "<div>\n",
              "<style scoped>\n",
              "    .dataframe tbody tr th:only-of-type {\n",
              "        vertical-align: middle;\n",
              "    }\n",
              "\n",
              "    .dataframe tbody tr th {\n",
              "        vertical-align: top;\n",
              "    }\n",
              "\n",
              "    .dataframe thead th {\n",
              "        text-align: right;\n",
              "    }\n",
              "</style>\n",
              "<table border=\"1\" class=\"dataframe\">\n",
              "  <thead>\n",
              "    <tr style=\"text-align: right;\">\n",
              "      <th></th>\n",
              "      <th>age</th>\n",
              "      <th>sex</th>\n",
              "      <th>cp</th>\n",
              "      <th>trestbps</th>\n",
              "      <th>chol</th>\n",
              "      <th>fbs</th>\n",
              "      <th>restecg</th>\n",
              "      <th>thalach</th>\n",
              "      <th>exang</th>\n",
              "      <th>oldpeak</th>\n",
              "      <th>slope</th>\n",
              "      <th>ca</th>\n",
              "      <th>thal</th>\n",
              "      <th>target</th>\n",
              "    </tr>\n",
              "  </thead>\n",
              "  <tbody>\n",
              "    <tr>\n",
              "      <th>0</th>\n",
              "      <td>0.687500</td>\n",
              "      <td>0.0</td>\n",
              "      <td>0.666667</td>\n",
              "      <td>0.339623</td>\n",
              "      <td>0.312785</td>\n",
              "      <td>0.0</td>\n",
              "      <td>1.0</td>\n",
              "      <td>0.198473</td>\n",
              "      <td>0.0</td>\n",
              "      <td>0.193548</td>\n",
              "      <td>0.5</td>\n",
              "      <td>0.25</td>\n",
              "      <td>1.000000</td>\n",
              "      <td>0.0</td>\n",
              "    </tr>\n",
              "    <tr>\n",
              "      <th>1</th>\n",
              "      <td>0.312500</td>\n",
              "      <td>1.0</td>\n",
              "      <td>0.333333</td>\n",
              "      <td>0.245283</td>\n",
              "      <td>0.312785</td>\n",
              "      <td>0.0</td>\n",
              "      <td>1.0</td>\n",
              "      <td>0.778626</td>\n",
              "      <td>0.0</td>\n",
              "      <td>0.000000</td>\n",
              "      <td>1.0</td>\n",
              "      <td>0.00</td>\n",
              "      <td>1.000000</td>\n",
              "      <td>1.0</td>\n",
              "    </tr>\n",
              "    <tr>\n",
              "      <th>2</th>\n",
              "      <td>0.458333</td>\n",
              "      <td>0.0</td>\n",
              "      <td>0.666667</td>\n",
              "      <td>0.339623</td>\n",
              "      <td>0.296804</td>\n",
              "      <td>0.0</td>\n",
              "      <td>0.0</td>\n",
              "      <td>0.595420</td>\n",
              "      <td>0.0</td>\n",
              "      <td>0.080645</td>\n",
              "      <td>1.0</td>\n",
              "      <td>0.00</td>\n",
              "      <td>0.666667</td>\n",
              "      <td>1.0</td>\n",
              "    </tr>\n",
              "    <tr>\n",
              "      <th>3</th>\n",
              "      <td>0.708333</td>\n",
              "      <td>1.0</td>\n",
              "      <td>0.000000</td>\n",
              "      <td>0.339623</td>\n",
              "      <td>0.465753</td>\n",
              "      <td>1.0</td>\n",
              "      <td>0.0</td>\n",
              "      <td>0.465649</td>\n",
              "      <td>1.0</td>\n",
              "      <td>0.290323</td>\n",
              "      <td>1.0</td>\n",
              "      <td>0.75</td>\n",
              "      <td>1.000000</td>\n",
              "      <td>0.0</td>\n",
              "    </tr>\n",
              "    <tr>\n",
              "      <th>4</th>\n",
              "      <td>0.770833</td>\n",
              "      <td>1.0</td>\n",
              "      <td>0.000000</td>\n",
              "      <td>0.169811</td>\n",
              "      <td>0.196347</td>\n",
              "      <td>0.0</td>\n",
              "      <td>0.0</td>\n",
              "      <td>0.465649</td>\n",
              "      <td>1.0</td>\n",
              "      <td>0.016129</td>\n",
              "      <td>1.0</td>\n",
              "      <td>0.25</td>\n",
              "      <td>0.666667</td>\n",
              "      <td>0.0</td>\n",
              "    </tr>\n",
              "    <tr>\n",
              "      <th>...</th>\n",
              "      <td>...</td>\n",
              "      <td>...</td>\n",
              "      <td>...</td>\n",
              "      <td>...</td>\n",
              "      <td>...</td>\n",
              "      <td>...</td>\n",
              "      <td>...</td>\n",
              "      <td>...</td>\n",
              "      <td>...</td>\n",
              "      <td>...</td>\n",
              "      <td>...</td>\n",
              "      <td>...</td>\n",
              "      <td>...</td>\n",
              "      <td>...</td>\n",
              "    </tr>\n",
              "    <tr>\n",
              "      <th>298</th>\n",
              "      <td>0.479167</td>\n",
              "      <td>1.0</td>\n",
              "      <td>0.333333</td>\n",
              "      <td>0.245283</td>\n",
              "      <td>0.454338</td>\n",
              "      <td>0.0</td>\n",
              "      <td>1.0</td>\n",
              "      <td>0.770992</td>\n",
              "      <td>0.0</td>\n",
              "      <td>0.032258</td>\n",
              "      <td>1.0</td>\n",
              "      <td>0.00</td>\n",
              "      <td>0.666667</td>\n",
              "      <td>1.0</td>\n",
              "    </tr>\n",
              "    <tr>\n",
              "      <th>299</th>\n",
              "      <td>0.520833</td>\n",
              "      <td>1.0</td>\n",
              "      <td>0.666667</td>\n",
              "      <td>0.292453</td>\n",
              "      <td>0.335616</td>\n",
              "      <td>0.0</td>\n",
              "      <td>0.0</td>\n",
              "      <td>0.618321</td>\n",
              "      <td>0.0</td>\n",
              "      <td>0.080645</td>\n",
              "      <td>0.0</td>\n",
              "      <td>0.25</td>\n",
              "      <td>0.666667</td>\n",
              "      <td>1.0</td>\n",
              "    </tr>\n",
              "    <tr>\n",
              "      <th>300</th>\n",
              "      <td>0.250000</td>\n",
              "      <td>0.0</td>\n",
              "      <td>0.666667</td>\n",
              "      <td>0.169811</td>\n",
              "      <td>0.324201</td>\n",
              "      <td>0.0</td>\n",
              "      <td>0.0</td>\n",
              "      <td>0.770992</td>\n",
              "      <td>1.0</td>\n",
              "      <td>0.000000</td>\n",
              "      <td>1.0</td>\n",
              "      <td>0.00</td>\n",
              "      <td>0.666667</td>\n",
              "      <td>1.0</td>\n",
              "    </tr>\n",
              "    <tr>\n",
              "      <th>301</th>\n",
              "      <td>0.000000</td>\n",
              "      <td>1.0</td>\n",
              "      <td>0.333333</td>\n",
              "      <td>0.339623</td>\n",
              "      <td>0.178082</td>\n",
              "      <td>0.0</td>\n",
              "      <td>0.0</td>\n",
              "      <td>1.000000</td>\n",
              "      <td>0.0</td>\n",
              "      <td>0.000000</td>\n",
              "      <td>1.0</td>\n",
              "      <td>0.00</td>\n",
              "      <td>0.666667</td>\n",
              "      <td>1.0</td>\n",
              "    </tr>\n",
              "    <tr>\n",
              "      <th>302</th>\n",
              "      <td>0.520833</td>\n",
              "      <td>0.0</td>\n",
              "      <td>0.666667</td>\n",
              "      <td>0.622642</td>\n",
              "      <td>0.171233</td>\n",
              "      <td>0.0</td>\n",
              "      <td>1.0</td>\n",
              "      <td>0.702290</td>\n",
              "      <td>0.0</td>\n",
              "      <td>0.000000</td>\n",
              "      <td>1.0</td>\n",
              "      <td>0.25</td>\n",
              "      <td>0.666667</td>\n",
              "      <td>1.0</td>\n",
              "    </tr>\n",
              "  </tbody>\n",
              "</table>\n",
              "<p>303 rows × 14 columns</p>\n",
              "</div>"
            ],
            "text/plain": [
              "          age  sex        cp  trestbps  ...  slope    ca      thal  target\n",
              "0    0.687500  0.0  0.666667  0.339623  ...    0.5  0.25  1.000000     0.0\n",
              "1    0.312500  1.0  0.333333  0.245283  ...    1.0  0.00  1.000000     1.0\n",
              "2    0.458333  0.0  0.666667  0.339623  ...    1.0  0.00  0.666667     1.0\n",
              "3    0.708333  1.0  0.000000  0.339623  ...    1.0  0.75  1.000000     0.0\n",
              "4    0.770833  1.0  0.000000  0.169811  ...    1.0  0.25  0.666667     0.0\n",
              "..        ...  ...       ...       ...  ...    ...   ...       ...     ...\n",
              "298  0.479167  1.0  0.333333  0.245283  ...    1.0  0.00  0.666667     1.0\n",
              "299  0.520833  1.0  0.666667  0.292453  ...    0.0  0.25  0.666667     1.0\n",
              "300  0.250000  0.0  0.666667  0.169811  ...    1.0  0.00  0.666667     1.0\n",
              "301  0.000000  1.0  0.333333  0.339623  ...    1.0  0.00  0.666667     1.0\n",
              "302  0.520833  0.0  0.666667  0.622642  ...    1.0  0.25  0.666667     1.0\n",
              "\n",
              "[303 rows x 14 columns]"
            ]
          },
          "metadata": {},
          "execution_count": 30
        }
      ]
    },
    {
      "cell_type": "code",
      "metadata": {
        "id": "09X9j3O8zfZn"
      },
      "source": [
        "X = df.iloc[:,:-1]\n",
        "y = df['target']"
      ],
      "execution_count": null,
      "outputs": []
    },
    {
      "cell_type": "markdown",
      "metadata": {
        "id": "WecENuNB_Ffo"
      },
      "source": [
        "#All classifiers"
      ]
    },
    {
      "cell_type": "code",
      "metadata": {
        "id": "gM713HpQ6EDA"
      },
      "source": [
        "def classifiers(classifier,test_size):\n",
        "\n",
        "  X_train, X_test, y_train, y_test = train_test_split(X,y,test_size = test_size, random_state = None)\n",
        "\n",
        "  if classifier == 'gnb' or classifier == 'gaussian_naivebayes':\n",
        "    \n",
        "    gaussain_naivebayes = GaussianNB()\n",
        "    gaussain_naivebayes.fit(X_train,y_train)\n",
        "    y_pred_gnb = gaussain_naivebayes.predict(X_test)\n",
        "\n",
        "    print('Gaussian Naive Bayes classification report')\n",
        "    print(classification_report(y_test,y_pred_gnb))\n",
        "  \n",
        "    print('\\n\\nGaussian Naive Bayes Confusion Matrix')\n",
        "    sns.heatmap(confusion_matrix(y_test,y_pred_gnb), annot=True, fmt='g', cmap='Blues')\n",
        "\n",
        "  elif classifier == 'svm' or classifier == 'SVM':\n",
        "    # X_train_svm, X_test_svm, y_train_svm, y_test_svm = train_test_split(X,y,test_size = test_size, random_state = 121)\n",
        "    svm = LinearSVC()\n",
        "    svm.fit(X_train,y_train)\n",
        "    y_pred_svm = svm.predict(X_test)\n",
        "\n",
        "    print('SVM')\n",
        "    print(classification_report(y_test,y_pred_svm))\n",
        "  \n",
        "    print('\\n\\nSVM Confusion Matrix')\n",
        "    sns.heatmap(confusion_matrix(y_test,y_pred_svm), annot=True, fmt='g', cmap='Blues')\n",
        "\n",
        "  elif classifier == 'lr':\n",
        "   \n",
        "    # X_train_lr,X_test_lr, y_train_lr,y_test_lr = train_test_split(X,y,test_size = test_size,random_state = 0)\n",
        "   \n",
        "    clf = LogisticRegression(random_state=0).fit(X_train,y_train)\n",
        "    y_pred_lr = clf.predict(X_test)\n",
        "    print('Logistic Regression')\n",
        "    print(classification_report(y_test,y_pred_lr))\n",
        "\n",
        "    print('\\n\\nLogistic regression Confusion Matrix')\n",
        "    sns.heatmap(confusion_matrix(y_test,y_pred_lr),annot=True, fmt='g', cmap='Blues')\n",
        "\n",
        "  elif classifier == 'xgboost' or classifier == 'xgb':\n",
        "\n",
        "    # X_train_xgb,X_test_xgb, y_train_xgb,y_test_xgb = train_test_split(X,y,test_size = test_size,random_state = 7)\n",
        "\n",
        "    xgb = XGBClassifier()\n",
        "    xgb.fit(X_train,y_train)\n",
        "    y_pred_xgb = xgb.predict(X_test)\n",
        "\n",
        "    print('XGB')\n",
        "    print(classification_report(y_test,y_pred_xgb))\n",
        "\n",
        "    print('\\n\\nXGBoost Confusion Matrix')\n",
        "    sns.heatmap(confusion_matrix(y_test,y_pred_xgb),annot=True, fmt='g', cmap='Blues')\n",
        "\n",
        "  elif classifier == 'knn' or classifier == 'KNN':\n",
        "    knn = KNeighborsClassifier(n_neighbors = 5)\n",
        "    knn.fit(X_train,y_train)\n",
        "    y_pred_knn = knn.predict(X_test)\n",
        "\n",
        "    print('KNN classification report')\n",
        "    print(classification_report(y_test,y_pred_knn))\n",
        "    print('\\n\\nKNN Confusion Matrix')\n",
        "    sns.heatmap(confusion_matrix(y_test,y_pred_knn),annot=True, fmt='g', cmap='Blues')\n",
        "  "
      ],
      "execution_count": null,
      "outputs": []
    },
    {
      "cell_type": "code",
      "metadata": {
        "colab": {
          "base_uri": "https://localhost:8080/",
          "height": 483
        },
        "id": "THKR_jxP9hhg",
        "outputId": "a2e99b6e-1c7e-41c6-c0ba-1f8288490b9b"
      },
      "source": [
        "classifiers('svm',0.2)"
      ],
      "execution_count": null,
      "outputs": [
        {
          "output_type": "stream",
          "name": "stdout",
          "text": [
            "SVM\n",
            "              precision    recall  f1-score   support\n",
            "\n",
            "         0.0       0.74      0.74      0.74        23\n",
            "         1.0       0.84      0.84      0.84        38\n",
            "\n",
            "    accuracy                           0.80        61\n",
            "   macro avg       0.79      0.79      0.79        61\n",
            "weighted avg       0.80      0.80      0.80        61\n",
            "\n",
            "\n",
            "\n",
            "SVM Confusion Matrix\n"
          ]
        },
        {
          "output_type": "display_data",
          "data": {
            "image/png": "[encoded data removed]",
            "text/plain": [
              "<Figure size 432x288 with 2 Axes>"
            ]
          },
          "metadata": {
            "needs_background": "light"
          }
        }
      ]
    },
    {
      "cell_type": "markdown",
      "metadata": {
        "id": "D6UxRhZ-AQq5"
      },
      "source": [
        "#Machine learning & neural net"
      ]
    },
    {
      "cell_type": "code",
      "metadata": {
        "id": "koX_c6TnKT6I"
      },
      "source": [
        "# Activation function\n",
        "def sigmoid(x):\n",
        "  return 1 / (1 + np.exp(-x))\n",
        "\n",
        "def derivativeSigmoid(x):\n",
        "  return np.exp(-x) / ((np.exp(-x) + 1) ** 2)"
      ],
      "execution_count": null,
      "outputs": []
    },
    {
      "cell_type": "code",
      "metadata": {
        "colab": {
          "base_uri": "https://localhost:8080/"
        },
        "id": "9WKZ1MWx2g-a",
        "outputId": "76e9477d-69df-42fb-bd53-49b8a73ebfae"
      },
      "source": [
        "data = df.iloc[0:242,:]\n",
        "data.shape"
      ],
      "execution_count": null,
      "outputs": [
        {
          "output_type": "execute_result",
          "data": {
            "text/plain": [
              "(242, 14)"
            ]
          },
          "metadata": {},
          "execution_count": 35
        }
      ]
    },
    {
      "cell_type": "code",
      "metadata": {
        "id": "p43mSiRupp1b"
      },
      "source": [
        "data2 = data.T\n",
        "# shuffle_data = data2[:,np.random.permutation(data2.shape[1])]\n",
        "data2 = data2.to_numpy()"
      ],
      "execution_count": null,
      "outputs": []
    },
    {
      "cell_type": "markdown",
      "metadata": {
        "id": "G0KoHJc5675p"
      },
      "source": [
        "# Linear Model Perceptron"
      ]
    },
    {
      "cell_type": "code",
      "metadata": {
        "id": "4s6NXhRu66j2"
      },
      "source": [
        "def linear_model():\n",
        "  true_predict = 0\n",
        "  w = np.zeros([14,1])\n",
        "  bias = np.random.rand(1,1)\n",
        "  lr = 0.3\n",
        "  errors = 0\n",
        "  mse = []\n",
        "  epochs = 100\n",
        "  for epoch in range(0,epochs):\n",
        "    shuffle_data = data2[:,np.random.permutation(data2.shape[1])]\n",
        "    true_predict = 0\n",
        "    errors = 0 \n",
        "    e = np.zeros((data2.shape[1],1))\n",
        "\n",
        "    for i in range(0,data2.shape[1]):\n",
        "\n",
        "      # Merging 1 to training data\n",
        "      x =  np.vstack((1,shuffle_data[0:13, i].reshape(13,1)))\n",
        "      \n",
        "      train_y = shuffle_data[-1,i]\n",
        "    \n",
        "      # Activation function applie\n",
        "      y_hat = np.sign((w.T @ x))\n",
        "      y2 = -1\n",
        "      if train_y == 0:\n",
        "        train_y = y2\n",
        "\n",
        "      error = train_y - y_hat\n",
        "\n",
        "      # Collecing error for single epoch\n",
        "      e[i] = error\n",
        "      w  = w + (lr * error * x)\n",
        "      bias = lr * error\n",
        "      if y_hat ==  train_y:\n",
        "        \n",
        "        true_predict += 1\n",
        "      else :\n",
        "        errors += 1\n",
        "    # Finding the mean square error     \n",
        "    mse.append(np.average(e**2))\n",
        "    # print('accuracy : '+ str(true_predict/data2.shape[1]))\n",
        "\n",
        "    \n",
        "  plt.xlabel('Learning curve')\n",
        "  plt.title('learning curve')\n",
        "  plt.ylabel('MSE')\n",
        "  plt.plot(range(epochs),mse) \n",
        "\n",
        "  # Testing \n",
        "  true_prediction = 0\n",
        "  data_test = df.iloc[243:303,:]\n",
        "  data_test = data_test.to_numpy()\n",
        "  data_test = data_test.T\n",
        "  for i in range(data_test.shape[1]):\n",
        "    test_x =  np.vstack((1,data_test[0:13, i].reshape(13,1)))\n",
        "    test_y = data_test[-1,i]\n",
        "    y_hat = np.sign((w.T @ test_x))\n",
        "\n",
        "    y2 = -1\n",
        "  \n",
        "    if test_y == 0:\n",
        "      test_y = -1\n",
        "  \n",
        "    if y_hat ==  test_y:\n",
        "      true_prediction += 1\n",
        "  # print(true_prediction)\n",
        "  print('Perceptron of linear model result')\n",
        "  print('Testing Accuracy: ' +str(true_prediction/data_test.shape[1] * 100))"
      ],
      "execution_count": null,
      "outputs": []
    },
    {
      "cell_type": "markdown",
      "metadata": {
        "id": "m6QRr1xgU0Cd"
      },
      "source": [
        "#Backward Propagation"
      ]
    },
    {
      "cell_type": "code",
      "metadata": {
        "id": "JE5KGfSNuLkq"
      },
      "source": [
        "def backwardPropagation():\n",
        "  data = df.iloc[0:242,:]\n",
        "  layer1_neuron = 50\n",
        "  layer2_neuron = 50\n",
        "  layer3_neuron = 50\n",
        "  layer4_neuron = 50\n",
        "  training_acc = 0\n",
        "  eta1 = 0.6\n",
        "  eta2 = 0.1\n",
        "  eta3 = 0.09\n",
        "  eta4 = 0.05\n",
        "  eta5 = 0.01\n",
        "\n",
        "  new_output = []\n",
        "\n",
        "  weight1 = np.random.randn(data.shape[1] - 1,layer1_neuron)\n",
        "  weight2 = np.random.randn(layer1_neuron,layer2_neuron)\n",
        "  weight3 = np.random.randn(layer2_neuron,layer3_neuron)\n",
        "  weight4 = np.random.randn(layer3_neuron,layer4_neuron)\n",
        "  weight5 = np.random.randn(layer4_neuron,1)\n",
        "\n",
        "  # initialize bias\n",
        "  bias1 = np.random.randn(1, layer1_neuron)\n",
        "  bias2 = np.random.randn(1, layer2_neuron)\n",
        "  bias3 = np.random.randn(1, layer3_neuron)\n",
        "  bias4 = np.random.randn(1, layer4_neuron)\n",
        "  bias5 = np.random.randn(1, 1)\n",
        "\n",
        "  for i in range(1,10000):\n",
        "    new_output = []\n",
        "    if i%50 == 0:\n",
        "      # print(i,' iteration completed')\n",
        "      \n",
        "      shuffled_data = data.iloc[np.random.permutation(data.shape[0]), : ].to_numpy()\n",
        "\n",
        "      # shuffle_seq = np.random.permutation(data.shape[0])  # numpy array of generated random values\n",
        "      # shuffled_data = data[shuffle_seq, :]  # randomly select the rows from the train dataset\n",
        "\n",
        "      inputData = shuffled_data[:, :-1]\n",
        "      outputData = shuffled_data[:, -1].reshape(inputData.shape[0],1)\n",
        "\n",
        "      pre1 = np.dot(inputData, weight1) + bias1\n",
        "      output1 = sigmoid(pre1)\n",
        "      \n",
        "      pre2 = np.dot(output1, weight2) + bias2\n",
        "      output2 = sigmoid(pre2)\n",
        "      \n",
        "      pre3 = np.dot(output2, weight3) + bias3\n",
        "      output3 = sigmoid(pre3)\n",
        "      \n",
        "      pre4 = np.dot(output3, weight4) + bias4\n",
        "      output4 = sigmoid(pre4)\n",
        "      \n",
        "      pre5 = np.dot(output4, weight5) + bias5\n",
        "      output5 = sigmoid(pre5)\n",
        "\n",
        "      #------------------------------ Feed Forward output ----------------------------\n",
        "      # print(output5)\n",
        "      #-----------------------------Back Propagation --------------------------------\n",
        "      deltaOutput5 = (output5 - outputData) * derivativeSigmoid(pre5)\n",
        "        \n",
        "      deltaOutput4 = deltaOutput5.dot(weight5.T) * derivativeSigmoid(pre4)\n",
        "    \n",
        "      deltaOutput3 = deltaOutput4.dot(weight4.T) * derivativeSigmoid(pre3)\n",
        "    \n",
        "      deltaOutput2 = deltaOutput3.dot(weight3.T) * derivativeSigmoid(pre2)\n",
        "\n",
        "      deltaOutput1 = deltaOutput2.dot(weight2.T) * derivativeSigmoid(pre1)\n",
        "    \n",
        "      N = outputData.size\n",
        "\n",
        "      \n",
        "      weight1 -= eta1 * ((inputData.T @ deltaOutput1)/N)\n",
        "      weight2 -= eta2 * ((output1.T @ deltaOutput2)/N)\n",
        "      weight3 -= eta3 * ((output2.T @ deltaOutput3)/N)\n",
        "      weight4 -= eta4 * ((output3.T @ deltaOutput4)/N)\n",
        "      weight5 -= eta5 * ((output4.T @ deltaOutput5)/N)\n",
        "\n",
        "      listofweight = [weight1,weight2,weight3,weight4,weight5]\n",
        "      listofbias = [bias1,bias2,bias3,bias4,bias5]\n",
        "\n",
        "      for i in output5:\n",
        "        if i[0] > 0.5:\n",
        "          new_output.append([1.])\n",
        "        else:\n",
        "          new_output.append([0.])\n",
        "      # new_output = np.array(new_output)\n",
        "      diff = outputData - new_output\n",
        "      diff = diff ** 2\n",
        "      numberofone = (diff==1).sum()\n",
        "  training_acc  = ((1-(numberofone/outputData.shape[0]))*100)\n",
        "  print(\"Training Accuracy ----> \",((1-(numberofone/outputData.shape[0]))*100), \"%\")\n",
        "\n",
        "      # return listofweight ,listofbias\n",
        "\n",
        "  data_test = df.iloc[243:303,:]\n",
        "  data = data_test.to_numpy()\n",
        "\n",
        "  inputData = data[:, :-1]\n",
        "  outputData = data[:, -1].reshape(inputData.shape[0], 1)\n",
        "\n",
        "  new_output = []\n",
        "\n",
        "\n",
        "  output1 = sigmoid(np.matmul(inputData, weight1) + bias1)\n",
        "  output2 = sigmoid(np.matmul(output1, weight2) + bias2)\n",
        "  output3 = sigmoid(np.matmul(output2, weight3) + bias3)\n",
        "  output4 = sigmoid(np.matmul(output3, weight4) + bias4)\n",
        "  output5 = sigmoid(np.matmul(output4, weight5) + bias5)\n",
        "  # print(output5)\n",
        "\n",
        "  for i in output5:\n",
        "    if i[0] > 0.5:\n",
        "        new_output.append([1.])\n",
        "    else:\n",
        "        new_output.append([0.])\n",
        "  new_output = np.array(new_output)\n",
        "  diff = outputData - new_output\n",
        "  diff = diff ** 2\n",
        "  numberofone = (diff==1).sum()\n",
        "  print(\"Testing Accuracy ----> \",((1-(numberofone/outputData.shape[0]))*100), \"%\")"
      ],
      "execution_count": null,
      "outputs": []
    },
    {
      "cell_type": "code",
      "metadata": {
        "id": "Krnx31o5n-Fp"
      },
      "source": [
        "def neuralNet(algorithm):\n",
        "   \n",
        "  if algorithm == 'perceptron' or algorithm == 'linear_model':\n",
        "    linear_model()  \n",
        "   \n",
        "  elif algorithm == 'backwardpropagation' or algorithm == 'bp':\n",
        "    print('Backward Propagation Results')\n",
        "    backwardPropagation()"
      ],
      "execution_count": null,
      "outputs": []
    },
    {
      "cell_type": "code",
      "metadata": {
        "colab": {
          "base_uri": "https://localhost:8080/"
        },
        "id": "UU_2sCLO8SgI",
        "outputId": "d3d63d5a-7731-44fc-d3ad-672c9011bd07"
      },
      "source": [
        "neuralNet('bp')"
      ],
      "execution_count": null,
      "outputs": [
        {
          "output_type": "stream",
          "name": "stdout",
          "text": [
            "Backward Propagation Results\n",
            "Training Accuracy ---->  92.97520661157024 %\n",
            "Testing Accuracy ---->  81.66666666666667 %\n"
          ]
        }
      ]
    },
    {
      "cell_type": "markdown",
      "metadata": {
        "id": "QRkY9zjxwmCU"
      },
      "source": [
        "# Linear model perceptron"
      ]
    },
    {
      "cell_type": "code",
      "metadata": {
        "colab": {
          "base_uri": "https://localhost:8080/",
          "height": 329
        },
        "id": "qG_zPGx-6pAr",
        "outputId": "9f8abf4d-0473-4773-c1fb-f85ddae3560c"
      },
      "source": [
        "neuralNet('perceptron')"
      ],
      "execution_count": null,
      "outputs": [
        {
          "output_type": "stream",
          "name": "stdout",
          "text": [
            "Perceptron of linear model result\n",
            "Testing Accuracy: 76.66666666666667\n"
          ]
        },
        {
          "output_type": "display_data",
          "data": {
            "image/png": "[encoded data removed]",
            "text/plain": [
              "<Figure size 432x288 with 1 Axes>"
            ]
          },
          "metadata": {
            "needs_background": "light"
          }
        }
      ]
    }
  ]
}