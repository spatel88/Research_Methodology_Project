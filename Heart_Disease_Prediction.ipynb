{
  "nbformat": 4,
  "nbformat_minor": 0,
  "metadata": {
    "colab": {
      "name": "Code",
      "provenance": [],
      "collapsed_sections": []
    },
    "kernelspec": {
      "name": "python3",
      "display_name": "Python 3"
    },
    "language_info": {
      "name": "python"
    }
  },
  "cells": [
    {
      "cell_type": "markdown",
      "metadata": {
        "id": "VQFGZshd5egp"
      },
      "source": [
        "# Importing necessary libraries"
      ]
    },
    {
      "cell_type": "code",
      "metadata": {
        "id": "yc_wtt0L0dcl"
      },
      "source": [
        "import pandas as pd\n",
        "import numpy as np\n",
        "\n",
        "import seaborn as sns\n",
        "import matplotlib.pyplot as plt\n",
        "\n",
        "from sklearn import preprocessing\n",
        "from sklearn.model_selection import train_test_split\n",
        "from sklearn.naive_bayes import GaussianNB\n",
        "from sklearn.metrics import classification_report, confusion_matrix, accuracy_score\n",
        "\n",
        "from sklearn.svm import LinearSVC, SVC\n",
        "from sklearn.pipeline import make_pipeline\n",
        "from sklearn.preprocessing import StandardScaler\n",
        "from sklearn.linear_model import LogisticRegression\n",
        "from xgboost import XGBClassifier\n",
        "from sklearn.neighbors import KNeighborsClassifier"
      ],
      "execution_count": 1,
      "outputs": []
    },
    {
      "cell_type": "markdown",
      "metadata": {
        "id": "liq61r4Y5sL7"
      },
      "source": [
        "Mounting drive"
      ]
    },
    {
      "cell_type": "code",
      "metadata": {
        "colab": {
          "base_uri": "https://localhost:8080/"
        },
        "id": "ie0ylbK55rko",
        "outputId": "69192172-532e-4ce5-febc-a52d693c8752"
      },
      "source": [
        "from google.colab import drive\n",
        "\n",
        "#Parameters for mounting\n",
        "mount_path = '/content/drive'\n",
        "drive_path = '/content/drive/MyDrive'\n",
        "data_path = '/content/drive/MyDrive/Term2 Fall2021/Research Methodology Comp Sci/Dataset and Code'\n",
        "path = data_path + '/processed.cleveland.data'\n",
        "#cleveland_data_path = data_path + '/Cleveland.csv'\n",
        "cleveland_data_path = data_path + '/heart.csv'\n",
        "#Mount drive to access files in drive\n",
        "drive.mount(mount_path, force_remount = True)"
      ],
      "execution_count": 2,
      "outputs": [
        {
          "output_type": "stream",
          "name": "stdout",
          "text": [
            "Mounted at /content/drive\n"
          ]
        }
      ]
    },
    {
      "cell_type": "markdown",
      "metadata": {
        "id": "GdMndCRcOxdc"
      },
      "source": [
        "# Preprocessing"
      ]
    },
    {
      "cell_type": "markdown",
      "metadata": {
        "id": "pfdMeYgvOxdd"
      },
      "source": [
        "**General Information**\n",
        "1. Age\n",
        "2. Sex: 1-Male; 0-Female\n",
        "3. Chest Pain Type: 1-typical angina; 2-atypical angina; 3-non-anginal pain; 4-asymptotic\n",
        "4. Resting blood pressure\n",
        "5. serum cholestrol\n",
        "6. fasting blood sugar: if>120 - 1; else - 0\n",
        "7. Resting ECG: 0-normal; 1-having ST-T wave abnormality; 2-left ventricula hypertrophy\n",
        "8. max heart rate acheived\n",
        "9. Excercise induced angina: 1-Yes; 0-No\n",
        "10. ST depression induced by exercise relative to rest\n",
        "11. Peak exercise ST segment: 1-upsloping; 2-flat; 3-downsloping\n",
        "12. number of major vessels (0-3) colored by flourosopy\n",
        "13. Thalassemia: 3-normal; 6-fixed defect; 7-reversible defect\n",
        "14. diagnosis of heart disease: 0-absence; 1,2,3,4-present\n"
      ]
    },
    {
      "cell_type": "markdown",
      "metadata": {
        "id": "3PdehBQj6_HV"
      },
      "source": [
        "## Data Reduction"
      ]
    },
    {
      "cell_type": "code",
      "metadata": {
        "id": "VCccXJ4XOxde"
      },
      "source": [
        "df = pd.read_csv(cleveland_data_path)\n",
        "df.columns = ['age', 'sex', 'chestPainType', 'restingBP', 'serumCholestrol',\n",
        "              'fastingBP', 'restingECG', 'heartRateMax', 'exerciseIndAngina', \n",
        "              'STDepression', 'peakExerST', 'numberMajorVessels', 'thalassemia', 'diagnosis']"
      ],
      "execution_count": 3,
      "outputs": []
    },
    {
      "cell_type": "code",
      "metadata": {
        "colab": {
          "base_uri": "https://localhost:8080/",
          "height": 419
        },
        "id": "cK4vzxvqOxde",
        "outputId": "05d979b5-47c0-4bbb-efef-b826a6f06dac"
      },
      "source": [
        "df = df.sample(frac = 1)\n",
        "df"
      ],
      "execution_count": 4,
      "outputs": [
        {
          "output_type": "execute_result",
          "data": {
            "text/html": [
              "<div>\n",
              "<style scoped>\n",
              "    .dataframe tbody tr th:only-of-type {\n",
              "        vertical-align: middle;\n",
              "    }\n",
              "\n",
              "    .dataframe tbody tr th {\n",
              "        vertical-align: top;\n",
              "    }\n",
              "\n",
              "    .dataframe thead th {\n",
              "        text-align: right;\n",
              "    }\n",
              "</style>\n",
              "<table border=\"1\" class=\"dataframe\">\n",
              "  <thead>\n",
              "    <tr style=\"text-align: right;\">\n",
              "      <th></th>\n",
              "      <th>age</th>\n",
              "      <th>sex</th>\n",
              "      <th>chestPainType</th>\n",
              "      <th>restingBP</th>\n",
              "      <th>serumCholestrol</th>\n",
              "      <th>fastingBP</th>\n",
              "      <th>restingECG</th>\n",
              "      <th>heartRateMax</th>\n",
              "      <th>exerciseIndAngina</th>\n",
              "      <th>STDepression</th>\n",
              "      <th>peakExerST</th>\n",
              "      <th>numberMajorVessels</th>\n",
              "      <th>thalassemia</th>\n",
              "      <th>diagnosis</th>\n",
              "    </tr>\n",
              "  </thead>\n",
              "  <tbody>\n",
              "    <tr>\n",
              "      <th>88</th>\n",
              "      <td>54</td>\n",
              "      <td>0</td>\n",
              "      <td>2</td>\n",
              "      <td>110</td>\n",
              "      <td>214</td>\n",
              "      <td>0</td>\n",
              "      <td>1</td>\n",
              "      <td>158</td>\n",
              "      <td>0</td>\n",
              "      <td>1.6</td>\n",
              "      <td>1</td>\n",
              "      <td>0</td>\n",
              "      <td>2</td>\n",
              "      <td>1</td>\n",
              "    </tr>\n",
              "    <tr>\n",
              "      <th>258</th>\n",
              "      <td>62</td>\n",
              "      <td>0</td>\n",
              "      <td>0</td>\n",
              "      <td>150</td>\n",
              "      <td>244</td>\n",
              "      <td>0</td>\n",
              "      <td>1</td>\n",
              "      <td>154</td>\n",
              "      <td>1</td>\n",
              "      <td>1.4</td>\n",
              "      <td>1</td>\n",
              "      <td>0</td>\n",
              "      <td>2</td>\n",
              "      <td>0</td>\n",
              "    </tr>\n",
              "    <tr>\n",
              "      <th>165</th>\n",
              "      <td>67</td>\n",
              "      <td>1</td>\n",
              "      <td>0</td>\n",
              "      <td>160</td>\n",
              "      <td>286</td>\n",
              "      <td>0</td>\n",
              "      <td>0</td>\n",
              "      <td>108</td>\n",
              "      <td>1</td>\n",
              "      <td>1.5</td>\n",
              "      <td>1</td>\n",
              "      <td>3</td>\n",
              "      <td>2</td>\n",
              "      <td>0</td>\n",
              "    </tr>\n",
              "    <tr>\n",
              "      <th>16</th>\n",
              "      <td>58</td>\n",
              "      <td>0</td>\n",
              "      <td>2</td>\n",
              "      <td>120</td>\n",
              "      <td>340</td>\n",
              "      <td>0</td>\n",
              "      <td>1</td>\n",
              "      <td>172</td>\n",
              "      <td>0</td>\n",
              "      <td>0.0</td>\n",
              "      <td>2</td>\n",
              "      <td>0</td>\n",
              "      <td>2</td>\n",
              "      <td>1</td>\n",
              "    </tr>\n",
              "    <tr>\n",
              "      <th>189</th>\n",
              "      <td>41</td>\n",
              "      <td>1</td>\n",
              "      <td>0</td>\n",
              "      <td>110</td>\n",
              "      <td>172</td>\n",
              "      <td>0</td>\n",
              "      <td>0</td>\n",
              "      <td>158</td>\n",
              "      <td>0</td>\n",
              "      <td>0.0</td>\n",
              "      <td>2</td>\n",
              "      <td>0</td>\n",
              "      <td>3</td>\n",
              "      <td>0</td>\n",
              "    </tr>\n",
              "    <tr>\n",
              "      <th>...</th>\n",
              "      <td>...</td>\n",
              "      <td>...</td>\n",
              "      <td>...</td>\n",
              "      <td>...</td>\n",
              "      <td>...</td>\n",
              "      <td>...</td>\n",
              "      <td>...</td>\n",
              "      <td>...</td>\n",
              "      <td>...</td>\n",
              "      <td>...</td>\n",
              "      <td>...</td>\n",
              "      <td>...</td>\n",
              "      <td>...</td>\n",
              "      <td>...</td>\n",
              "    </tr>\n",
              "    <tr>\n",
              "      <th>244</th>\n",
              "      <td>56</td>\n",
              "      <td>1</td>\n",
              "      <td>0</td>\n",
              "      <td>132</td>\n",
              "      <td>184</td>\n",
              "      <td>0</td>\n",
              "      <td>0</td>\n",
              "      <td>105</td>\n",
              "      <td>1</td>\n",
              "      <td>2.1</td>\n",
              "      <td>1</td>\n",
              "      <td>1</td>\n",
              "      <td>1</td>\n",
              "      <td>0</td>\n",
              "    </tr>\n",
              "    <tr>\n",
              "      <th>277</th>\n",
              "      <td>57</td>\n",
              "      <td>1</td>\n",
              "      <td>1</td>\n",
              "      <td>124</td>\n",
              "      <td>261</td>\n",
              "      <td>0</td>\n",
              "      <td>1</td>\n",
              "      <td>141</td>\n",
              "      <td>0</td>\n",
              "      <td>0.3</td>\n",
              "      <td>2</td>\n",
              "      <td>0</td>\n",
              "      <td>3</td>\n",
              "      <td>0</td>\n",
              "    </tr>\n",
              "    <tr>\n",
              "      <th>2</th>\n",
              "      <td>41</td>\n",
              "      <td>0</td>\n",
              "      <td>1</td>\n",
              "      <td>130</td>\n",
              "      <td>204</td>\n",
              "      <td>0</td>\n",
              "      <td>0</td>\n",
              "      <td>172</td>\n",
              "      <td>0</td>\n",
              "      <td>1.4</td>\n",
              "      <td>2</td>\n",
              "      <td>0</td>\n",
              "      <td>2</td>\n",
              "      <td>1</td>\n",
              "    </tr>\n",
              "    <tr>\n",
              "      <th>87</th>\n",
              "      <td>46</td>\n",
              "      <td>1</td>\n",
              "      <td>1</td>\n",
              "      <td>101</td>\n",
              "      <td>197</td>\n",
              "      <td>1</td>\n",
              "      <td>1</td>\n",
              "      <td>156</td>\n",
              "      <td>0</td>\n",
              "      <td>0.0</td>\n",
              "      <td>2</td>\n",
              "      <td>0</td>\n",
              "      <td>3</td>\n",
              "      <td>1</td>\n",
              "    </tr>\n",
              "    <tr>\n",
              "      <th>194</th>\n",
              "      <td>60</td>\n",
              "      <td>1</td>\n",
              "      <td>2</td>\n",
              "      <td>140</td>\n",
              "      <td>185</td>\n",
              "      <td>0</td>\n",
              "      <td>0</td>\n",
              "      <td>155</td>\n",
              "      <td>0</td>\n",
              "      <td>3.0</td>\n",
              "      <td>1</td>\n",
              "      <td>0</td>\n",
              "      <td>2</td>\n",
              "      <td>0</td>\n",
              "    </tr>\n",
              "  </tbody>\n",
              "</table>\n",
              "<p>303 rows × 14 columns</p>\n",
              "</div>"
            ],
            "text/plain": [
              "     age  sex  chestPainType  ...  numberMajorVessels  thalassemia  diagnosis\n",
              "88    54    0              2  ...                   0            2          1\n",
              "258   62    0              0  ...                   0            2          0\n",
              "165   67    1              0  ...                   3            2          0\n",
              "16    58    0              2  ...                   0            2          1\n",
              "189   41    1              0  ...                   0            3          0\n",
              "..   ...  ...            ...  ...                 ...          ...        ...\n",
              "244   56    1              0  ...                   1            1          0\n",
              "277   57    1              1  ...                   0            3          0\n",
              "2     41    0              1  ...                   0            2          1\n",
              "87    46    1              1  ...                   0            3          1\n",
              "194   60    1              2  ...                   0            2          0\n",
              "\n",
              "[303 rows x 14 columns]"
            ]
          },
          "metadata": {},
          "execution_count": 4
        }
      ]
    },
    {
      "cell_type": "markdown",
      "metadata": {
        "id": "Nrb4UlmX6oUQ"
      },
      "source": [
        "## Data Cleaning"
      ]
    },
    {
      "cell_type": "code",
      "metadata": {
        "colab": {
          "base_uri": "https://localhost:8080/"
        },
        "id": "C50461Q-Oxdh",
        "outputId": "c7f74a00-2b2c-496a-d655-2bc01b703948"
      },
      "source": [
        "df.isna().sum()"
      ],
      "execution_count": 5,
      "outputs": [
        {
          "output_type": "execute_result",
          "data": {
            "text/plain": [
              "age                   0\n",
              "sex                   0\n",
              "chestPainType         0\n",
              "restingBP             0\n",
              "serumCholestrol       0\n",
              "fastingBP             0\n",
              "restingECG            0\n",
              "heartRateMax          0\n",
              "exerciseIndAngina     0\n",
              "STDepression          0\n",
              "peakExerST            0\n",
              "numberMajorVessels    0\n",
              "thalassemia           0\n",
              "diagnosis             0\n",
              "dtype: int64"
            ]
          },
          "metadata": {},
          "execution_count": 5
        }
      ]
    },
    {
      "cell_type": "markdown",
      "metadata": {
        "id": "J8DR-bRA6s_a"
      },
      "source": [
        "## Data Augmentation"
      ]
    },
    {
      "cell_type": "code",
      "metadata": {
        "id": "uvWD7n73Oxdh"
      },
      "source": [
        "#Renaming data according to values\n",
        "df['diagnosis'] = df.diagnosis.map({0: 0, 1: 1, 2: 1, 3: 1, 4: 1})"
      ],
      "execution_count": 6,
      "outputs": []
    },
    {
      "cell_type": "code",
      "metadata": {
        "colab": {
          "base_uri": "https://localhost:8080/",
          "height": 419
        },
        "id": "3wCox4k_Oxdi",
        "outputId": "793efed8-fc82-4272-82cd-8fd353d66cc5"
      },
      "source": [
        "df"
      ],
      "execution_count": 7,
      "outputs": [
        {
          "output_type": "execute_result",
          "data": {
            "text/html": [
              "<div>\n",
              "<style scoped>\n",
              "    .dataframe tbody tr th:only-of-type {\n",
              "        vertical-align: middle;\n",
              "    }\n",
              "\n",
              "    .dataframe tbody tr th {\n",
              "        vertical-align: top;\n",
              "    }\n",
              "\n",
              "    .dataframe thead th {\n",
              "        text-align: right;\n",
              "    }\n",
              "</style>\n",
              "<table border=\"1\" class=\"dataframe\">\n",
              "  <thead>\n",
              "    <tr style=\"text-align: right;\">\n",
              "      <th></th>\n",
              "      <th>age</th>\n",
              "      <th>sex</th>\n",
              "      <th>chestPainType</th>\n",
              "      <th>restingBP</th>\n",
              "      <th>serumCholestrol</th>\n",
              "      <th>fastingBP</th>\n",
              "      <th>restingECG</th>\n",
              "      <th>heartRateMax</th>\n",
              "      <th>exerciseIndAngina</th>\n",
              "      <th>STDepression</th>\n",
              "      <th>peakExerST</th>\n",
              "      <th>numberMajorVessels</th>\n",
              "      <th>thalassemia</th>\n",
              "      <th>diagnosis</th>\n",
              "    </tr>\n",
              "  </thead>\n",
              "  <tbody>\n",
              "    <tr>\n",
              "      <th>88</th>\n",
              "      <td>54</td>\n",
              "      <td>0</td>\n",
              "      <td>2</td>\n",
              "      <td>110</td>\n",
              "      <td>214</td>\n",
              "      <td>0</td>\n",
              "      <td>1</td>\n",
              "      <td>158</td>\n",
              "      <td>0</td>\n",
              "      <td>1.6</td>\n",
              "      <td>1</td>\n",
              "      <td>0</td>\n",
              "      <td>2</td>\n",
              "      <td>1</td>\n",
              "    </tr>\n",
              "    <tr>\n",
              "      <th>258</th>\n",
              "      <td>62</td>\n",
              "      <td>0</td>\n",
              "      <td>0</td>\n",
              "      <td>150</td>\n",
              "      <td>244</td>\n",
              "      <td>0</td>\n",
              "      <td>1</td>\n",
              "      <td>154</td>\n",
              "      <td>1</td>\n",
              "      <td>1.4</td>\n",
              "      <td>1</td>\n",
              "      <td>0</td>\n",
              "      <td>2</td>\n",
              "      <td>0</td>\n",
              "    </tr>\n",
              "    <tr>\n",
              "      <th>165</th>\n",
              "      <td>67</td>\n",
              "      <td>1</td>\n",
              "      <td>0</td>\n",
              "      <td>160</td>\n",
              "      <td>286</td>\n",
              "      <td>0</td>\n",
              "      <td>0</td>\n",
              "      <td>108</td>\n",
              "      <td>1</td>\n",
              "      <td>1.5</td>\n",
              "      <td>1</td>\n",
              "      <td>3</td>\n",
              "      <td>2</td>\n",
              "      <td>0</td>\n",
              "    </tr>\n",
              "    <tr>\n",
              "      <th>16</th>\n",
              "      <td>58</td>\n",
              "      <td>0</td>\n",
              "      <td>2</td>\n",
              "      <td>120</td>\n",
              "      <td>340</td>\n",
              "      <td>0</td>\n",
              "      <td>1</td>\n",
              "      <td>172</td>\n",
              "      <td>0</td>\n",
              "      <td>0.0</td>\n",
              "      <td>2</td>\n",
              "      <td>0</td>\n",
              "      <td>2</td>\n",
              "      <td>1</td>\n",
              "    </tr>\n",
              "    <tr>\n",
              "      <th>189</th>\n",
              "      <td>41</td>\n",
              "      <td>1</td>\n",
              "      <td>0</td>\n",
              "      <td>110</td>\n",
              "      <td>172</td>\n",
              "      <td>0</td>\n",
              "      <td>0</td>\n",
              "      <td>158</td>\n",
              "      <td>0</td>\n",
              "      <td>0.0</td>\n",
              "      <td>2</td>\n",
              "      <td>0</td>\n",
              "      <td>3</td>\n",
              "      <td>0</td>\n",
              "    </tr>\n",
              "    <tr>\n",
              "      <th>...</th>\n",
              "      <td>...</td>\n",
              "      <td>...</td>\n",
              "      <td>...</td>\n",
              "      <td>...</td>\n",
              "      <td>...</td>\n",
              "      <td>...</td>\n",
              "      <td>...</td>\n",
              "      <td>...</td>\n",
              "      <td>...</td>\n",
              "      <td>...</td>\n",
              "      <td>...</td>\n",
              "      <td>...</td>\n",
              "      <td>...</td>\n",
              "      <td>...</td>\n",
              "    </tr>\n",
              "    <tr>\n",
              "      <th>244</th>\n",
              "      <td>56</td>\n",
              "      <td>1</td>\n",
              "      <td>0</td>\n",
              "      <td>132</td>\n",
              "      <td>184</td>\n",
              "      <td>0</td>\n",
              "      <td>0</td>\n",
              "      <td>105</td>\n",
              "      <td>1</td>\n",
              "      <td>2.1</td>\n",
              "      <td>1</td>\n",
              "      <td>1</td>\n",
              "      <td>1</td>\n",
              "      <td>0</td>\n",
              "    </tr>\n",
              "    <tr>\n",
              "      <th>277</th>\n",
              "      <td>57</td>\n",
              "      <td>1</td>\n",
              "      <td>1</td>\n",
              "      <td>124</td>\n",
              "      <td>261</td>\n",
              "      <td>0</td>\n",
              "      <td>1</td>\n",
              "      <td>141</td>\n",
              "      <td>0</td>\n",
              "      <td>0.3</td>\n",
              "      <td>2</td>\n",
              "      <td>0</td>\n",
              "      <td>3</td>\n",
              "      <td>0</td>\n",
              "    </tr>\n",
              "    <tr>\n",
              "      <th>2</th>\n",
              "      <td>41</td>\n",
              "      <td>0</td>\n",
              "      <td>1</td>\n",
              "      <td>130</td>\n",
              "      <td>204</td>\n",
              "      <td>0</td>\n",
              "      <td>0</td>\n",
              "      <td>172</td>\n",
              "      <td>0</td>\n",
              "      <td>1.4</td>\n",
              "      <td>2</td>\n",
              "      <td>0</td>\n",
              "      <td>2</td>\n",
              "      <td>1</td>\n",
              "    </tr>\n",
              "    <tr>\n",
              "      <th>87</th>\n",
              "      <td>46</td>\n",
              "      <td>1</td>\n",
              "      <td>1</td>\n",
              "      <td>101</td>\n",
              "      <td>197</td>\n",
              "      <td>1</td>\n",
              "      <td>1</td>\n",
              "      <td>156</td>\n",
              "      <td>0</td>\n",
              "      <td>0.0</td>\n",
              "      <td>2</td>\n",
              "      <td>0</td>\n",
              "      <td>3</td>\n",
              "      <td>1</td>\n",
              "    </tr>\n",
              "    <tr>\n",
              "      <th>194</th>\n",
              "      <td>60</td>\n",
              "      <td>1</td>\n",
              "      <td>2</td>\n",
              "      <td>140</td>\n",
              "      <td>185</td>\n",
              "      <td>0</td>\n",
              "      <td>0</td>\n",
              "      <td>155</td>\n",
              "      <td>0</td>\n",
              "      <td>3.0</td>\n",
              "      <td>1</td>\n",
              "      <td>0</td>\n",
              "      <td>2</td>\n",
              "      <td>0</td>\n",
              "    </tr>\n",
              "  </tbody>\n",
              "</table>\n",
              "<p>303 rows × 14 columns</p>\n",
              "</div>"
            ],
            "text/plain": [
              "     age  sex  chestPainType  ...  numberMajorVessels  thalassemia  diagnosis\n",
              "88    54    0              2  ...                   0            2          1\n",
              "258   62    0              0  ...                   0            2          0\n",
              "165   67    1              0  ...                   3            2          0\n",
              "16    58    0              2  ...                   0            2          1\n",
              "189   41    1              0  ...                   0            3          0\n",
              "..   ...  ...            ...  ...                 ...          ...        ...\n",
              "244   56    1              0  ...                   1            1          0\n",
              "277   57    1              1  ...                   0            3          0\n",
              "2     41    0              1  ...                   0            2          1\n",
              "87    46    1              1  ...                   0            3          1\n",
              "194   60    1              2  ...                   0            2          0\n",
              "\n",
              "[303 rows x 14 columns]"
            ]
          },
          "metadata": {},
          "execution_count": 7
        }
      ]
    },
    {
      "cell_type": "code",
      "metadata": {
        "id": "5EX33yXAZC4u"
      },
      "source": [
        "#user defined normalization function\n",
        "def normalize(data):\n",
        "  minVal = min(data)\n",
        "  maxVal = max(data)\n",
        "\n",
        "  norm = []\n",
        "\n",
        "  for i in data:\n",
        "    j = (i - minVal)/(maxVal - minVal)\n",
        "    norm.append(j)\n",
        "  return norm"
      ],
      "execution_count": 8,
      "outputs": []
    },
    {
      "cell_type": "code",
      "metadata": {
        "id": "98ajxzNveJwK"
      },
      "source": [
        "age = normalize(df['age'])\n",
        "sex = df['sex']\n",
        "cp = normalize(df['chestPainType'])\n",
        "trestbps = normalize(df['restingBP'])\n",
        "chol = normalize(df['serumCholestrol'])\n",
        "fbs = df['fastingBP']\n",
        "restecg = df['restingECG']\n",
        "thalach = normalize(df['heartRateMax'])\n",
        "exang = df['exerciseIndAngina']\n",
        "oldpeak = normalize(df['STDepression'])\n",
        "slope = normalize(df['peakExerST'])\n",
        "ca = normalize(df['numberMajorVessels'])\n",
        "thal = normalize(df['thalassemia'])\n",
        "target = df['diagnosis']"
      ],
      "execution_count": 9,
      "outputs": []
    },
    {
      "cell_type": "code",
      "metadata": {
        "id": "8M_eD2ghfV5l"
      },
      "source": [
        "#creating normamlized dataset\n",
        "dataset = np.hstack((\n",
        "    np.vstack((age)),\n",
        "    np.vstack((sex)),\n",
        "    np.vstack((cp)),\n",
        "    np.vstack((trestbps)),\n",
        "    np.vstack((chol)),\n",
        "    np.vstack((fbs)),\n",
        "    np.vstack((restecg)),\n",
        "    np.vstack((thalach)),\n",
        "    np.vstack((exang)),\n",
        "    np.vstack((oldpeak)),\n",
        "    np.vstack((slope)),\n",
        "    np.vstack((ca)),\n",
        "    np.vstack((thal)),\n",
        "    np.vstack((target))\n",
        "))"
      ],
      "execution_count": 10,
      "outputs": []
    },
    {
      "cell_type": "code",
      "metadata": {
        "colab": {
          "base_uri": "https://localhost:8080/",
          "height": 419
        },
        "id": "bxfIDgScfYhy",
        "outputId": "8ca4fb9d-d015-4cb5-adea-08de0935f889"
      },
      "source": [
        "df = pd.DataFrame(dataset, columns = ['age', 'sex', 'chestPainType', 'restingBP', 'serumCholestrol',\n",
        "              'fastingBP', 'restingECG', 'heartRateMax', 'exerciseIndAngina', \n",
        "              'STDepression', 'peakExerST', 'numberMajorVessels', 'thalassemia', 'diagnosis'])\n",
        "df"
      ],
      "execution_count": 11,
      "outputs": [
        {
          "output_type": "execute_result",
          "data": {
            "text/html": [
              "<div>\n",
              "<style scoped>\n",
              "    .dataframe tbody tr th:only-of-type {\n",
              "        vertical-align: middle;\n",
              "    }\n",
              "\n",
              "    .dataframe tbody tr th {\n",
              "        vertical-align: top;\n",
              "    }\n",
              "\n",
              "    .dataframe thead th {\n",
              "        text-align: right;\n",
              "    }\n",
              "</style>\n",
              "<table border=\"1\" class=\"dataframe\">\n",
              "  <thead>\n",
              "    <tr style=\"text-align: right;\">\n",
              "      <th></th>\n",
              "      <th>age</th>\n",
              "      <th>sex</th>\n",
              "      <th>chestPainType</th>\n",
              "      <th>restingBP</th>\n",
              "      <th>serumCholestrol</th>\n",
              "      <th>fastingBP</th>\n",
              "      <th>restingECG</th>\n",
              "      <th>heartRateMax</th>\n",
              "      <th>exerciseIndAngina</th>\n",
              "      <th>STDepression</th>\n",
              "      <th>peakExerST</th>\n",
              "      <th>numberMajorVessels</th>\n",
              "      <th>thalassemia</th>\n",
              "      <th>diagnosis</th>\n",
              "    </tr>\n",
              "  </thead>\n",
              "  <tbody>\n",
              "    <tr>\n",
              "      <th>0</th>\n",
              "      <td>0.520833</td>\n",
              "      <td>0.0</td>\n",
              "      <td>0.666667</td>\n",
              "      <td>0.150943</td>\n",
              "      <td>0.200913</td>\n",
              "      <td>0.0</td>\n",
              "      <td>1.0</td>\n",
              "      <td>0.664122</td>\n",
              "      <td>0.0</td>\n",
              "      <td>0.258065</td>\n",
              "      <td>0.5</td>\n",
              "      <td>0.00</td>\n",
              "      <td>0.666667</td>\n",
              "      <td>1.0</td>\n",
              "    </tr>\n",
              "    <tr>\n",
              "      <th>1</th>\n",
              "      <td>0.687500</td>\n",
              "      <td>0.0</td>\n",
              "      <td>0.000000</td>\n",
              "      <td>0.528302</td>\n",
              "      <td>0.269406</td>\n",
              "      <td>0.0</td>\n",
              "      <td>1.0</td>\n",
              "      <td>0.633588</td>\n",
              "      <td>1.0</td>\n",
              "      <td>0.225806</td>\n",
              "      <td>0.5</td>\n",
              "      <td>0.00</td>\n",
              "      <td>0.666667</td>\n",
              "      <td>0.0</td>\n",
              "    </tr>\n",
              "    <tr>\n",
              "      <th>2</th>\n",
              "      <td>0.791667</td>\n",
              "      <td>1.0</td>\n",
              "      <td>0.000000</td>\n",
              "      <td>0.622642</td>\n",
              "      <td>0.365297</td>\n",
              "      <td>0.0</td>\n",
              "      <td>0.0</td>\n",
              "      <td>0.282443</td>\n",
              "      <td>1.0</td>\n",
              "      <td>0.241935</td>\n",
              "      <td>0.5</td>\n",
              "      <td>0.75</td>\n",
              "      <td>0.666667</td>\n",
              "      <td>0.0</td>\n",
              "    </tr>\n",
              "    <tr>\n",
              "      <th>3</th>\n",
              "      <td>0.604167</td>\n",
              "      <td>0.0</td>\n",
              "      <td>0.666667</td>\n",
              "      <td>0.245283</td>\n",
              "      <td>0.488584</td>\n",
              "      <td>0.0</td>\n",
              "      <td>1.0</td>\n",
              "      <td>0.770992</td>\n",
              "      <td>0.0</td>\n",
              "      <td>0.000000</td>\n",
              "      <td>1.0</td>\n",
              "      <td>0.00</td>\n",
              "      <td>0.666667</td>\n",
              "      <td>1.0</td>\n",
              "    </tr>\n",
              "    <tr>\n",
              "      <th>4</th>\n",
              "      <td>0.250000</td>\n",
              "      <td>1.0</td>\n",
              "      <td>0.000000</td>\n",
              "      <td>0.150943</td>\n",
              "      <td>0.105023</td>\n",
              "      <td>0.0</td>\n",
              "      <td>0.0</td>\n",
              "      <td>0.664122</td>\n",
              "      <td>0.0</td>\n",
              "      <td>0.000000</td>\n",
              "      <td>1.0</td>\n",
              "      <td>0.00</td>\n",
              "      <td>1.000000</td>\n",
              "      <td>0.0</td>\n",
              "    </tr>\n",
              "    <tr>\n",
              "      <th>...</th>\n",
              "      <td>...</td>\n",
              "      <td>...</td>\n",
              "      <td>...</td>\n",
              "      <td>...</td>\n",
              "      <td>...</td>\n",
              "      <td>...</td>\n",
              "      <td>...</td>\n",
              "      <td>...</td>\n",
              "      <td>...</td>\n",
              "      <td>...</td>\n",
              "      <td>...</td>\n",
              "      <td>...</td>\n",
              "      <td>...</td>\n",
              "      <td>...</td>\n",
              "    </tr>\n",
              "    <tr>\n",
              "      <th>298</th>\n",
              "      <td>0.562500</td>\n",
              "      <td>1.0</td>\n",
              "      <td>0.000000</td>\n",
              "      <td>0.358491</td>\n",
              "      <td>0.132420</td>\n",
              "      <td>0.0</td>\n",
              "      <td>0.0</td>\n",
              "      <td>0.259542</td>\n",
              "      <td>1.0</td>\n",
              "      <td>0.338710</td>\n",
              "      <td>0.5</td>\n",
              "      <td>0.25</td>\n",
              "      <td>0.333333</td>\n",
              "      <td>0.0</td>\n",
              "    </tr>\n",
              "    <tr>\n",
              "      <th>299</th>\n",
              "      <td>0.583333</td>\n",
              "      <td>1.0</td>\n",
              "      <td>0.333333</td>\n",
              "      <td>0.283019</td>\n",
              "      <td>0.308219</td>\n",
              "      <td>0.0</td>\n",
              "      <td>1.0</td>\n",
              "      <td>0.534351</td>\n",
              "      <td>0.0</td>\n",
              "      <td>0.048387</td>\n",
              "      <td>1.0</td>\n",
              "      <td>0.00</td>\n",
              "      <td>1.000000</td>\n",
              "      <td>0.0</td>\n",
              "    </tr>\n",
              "    <tr>\n",
              "      <th>300</th>\n",
              "      <td>0.250000</td>\n",
              "      <td>0.0</td>\n",
              "      <td>0.333333</td>\n",
              "      <td>0.339623</td>\n",
              "      <td>0.178082</td>\n",
              "      <td>0.0</td>\n",
              "      <td>0.0</td>\n",
              "      <td>0.770992</td>\n",
              "      <td>0.0</td>\n",
              "      <td>0.225806</td>\n",
              "      <td>1.0</td>\n",
              "      <td>0.00</td>\n",
              "      <td>0.666667</td>\n",
              "      <td>1.0</td>\n",
              "    </tr>\n",
              "    <tr>\n",
              "      <th>301</th>\n",
              "      <td>0.354167</td>\n",
              "      <td>1.0</td>\n",
              "      <td>0.333333</td>\n",
              "      <td>0.066038</td>\n",
              "      <td>0.162100</td>\n",
              "      <td>1.0</td>\n",
              "      <td>1.0</td>\n",
              "      <td>0.648855</td>\n",
              "      <td>0.0</td>\n",
              "      <td>0.000000</td>\n",
              "      <td>1.0</td>\n",
              "      <td>0.00</td>\n",
              "      <td>1.000000</td>\n",
              "      <td>1.0</td>\n",
              "    </tr>\n",
              "    <tr>\n",
              "      <th>302</th>\n",
              "      <td>0.645833</td>\n",
              "      <td>1.0</td>\n",
              "      <td>0.666667</td>\n",
              "      <td>0.433962</td>\n",
              "      <td>0.134703</td>\n",
              "      <td>0.0</td>\n",
              "      <td>0.0</td>\n",
              "      <td>0.641221</td>\n",
              "      <td>0.0</td>\n",
              "      <td>0.483871</td>\n",
              "      <td>0.5</td>\n",
              "      <td>0.00</td>\n",
              "      <td>0.666667</td>\n",
              "      <td>0.0</td>\n",
              "    </tr>\n",
              "  </tbody>\n",
              "</table>\n",
              "<p>303 rows × 14 columns</p>\n",
              "</div>"
            ],
            "text/plain": [
              "          age  sex  chestPainType  ...  numberMajorVessels  thalassemia  diagnosis\n",
              "0    0.520833  0.0       0.666667  ...                0.00     0.666667        1.0\n",
              "1    0.687500  0.0       0.000000  ...                0.00     0.666667        0.0\n",
              "2    0.791667  1.0       0.000000  ...                0.75     0.666667        0.0\n",
              "3    0.604167  0.0       0.666667  ...                0.00     0.666667        1.0\n",
              "4    0.250000  1.0       0.000000  ...                0.00     1.000000        0.0\n",
              "..        ...  ...            ...  ...                 ...          ...        ...\n",
              "298  0.562500  1.0       0.000000  ...                0.25     0.333333        0.0\n",
              "299  0.583333  1.0       0.333333  ...                0.00     1.000000        0.0\n",
              "300  0.250000  0.0       0.333333  ...                0.00     0.666667        1.0\n",
              "301  0.354167  1.0       0.333333  ...                0.00     1.000000        1.0\n",
              "302  0.645833  1.0       0.666667  ...                0.00     0.666667        0.0\n",
              "\n",
              "[303 rows x 14 columns]"
            ]
          },
          "metadata": {},
          "execution_count": 11
        }
      ]
    },
    {
      "cell_type": "markdown",
      "metadata": {
        "id": "5ponJPCA6Lt_"
      },
      "source": [
        "# Feature Selection"
      ]
    },
    {
      "cell_type": "code",
      "metadata": {
        "colab": {
          "base_uri": "https://localhost:8080/",
          "height": 1000
        },
        "id": "wMu4VMpKZ53A",
        "outputId": "db263ce9-9f13-462e-dd48-510440e923a9"
      },
      "source": [
        "X = df.iloc[:,:-1]\n",
        "y = df.iloc[:, -1]\n",
        "corrmat = df.corr()\n",
        "top_corr_features = corrmat.index\n",
        "plt.figure(figsize=(20,20))\n",
        "g=sns.heatmap(df[top_corr_features].corr(),annot=True,cmap=\"RdYlGn\")"
      ],
      "execution_count": 12,
      "outputs": [
        {
          "output_type": "display_data",
          "data": {
            "image/png": "[encoded data removed]",
            "text/plain": [
              "<Figure size 1440x1440 with 2 Axes>"
            ]
          },
          "metadata": {
            "needs_background": "light"
          }
        }
      ]
    },
    {
      "cell_type": "code",
      "metadata": {
        "id": "-aDyXfZSffY6"
      },
      "source": [
        "X = df.iloc[:,:-1]\n",
        "y = df['diagnosis']"
      ],
      "execution_count": 13,
      "outputs": []
    },
    {
      "cell_type": "markdown",
      "metadata": {
        "id": "g0p-YCEp7Mzu"
      },
      "source": [
        "# Model Building and Training/Testing"
      ]
    },
    {
      "cell_type": "code",
      "metadata": {
        "id": "Cpp1c7ERgLK2"
      },
      "source": [
        "def classifiers(classifier, X, y, test_size):\n",
        "\n",
        "  X_train, X_test, y_train, y_test = train_test_split(X,y,test_size = test_size, random_state = None)\n",
        "\n",
        "  if classifier == 'gnb' or classifier == 'gaussian_naivebayes':    \n",
        "    gaussain_naivebayes = GaussianNB()\n",
        "    gaussain_naivebayes.fit(X_train, y_train)\n",
        "    y_pred_gnb = gaussain_naivebayes.predict(X_test)\n",
        "\n",
        "    print('Gaussian Naive Bayes classification report for test size',  test_size)\n",
        "    print(classification_report(y_test, y_pred_gnb))\n",
        "    print('Accuracy Achieved:', accuracy_score(y_test, y_pred_gnb) * 100)\n",
        "\n",
        "    print('\\n\\nGaussian Naive Bayes Confusion Matrix')\n",
        "    sns.heatmap(confusion_matrix(y_test, y_pred_gnb), annot=True, fmt='g', cmap='Blues')\n",
        "\n",
        "  elif classifier == 'svm':\n",
        "    svm = LinearSVC()\n",
        "    svm.fit(X_train, y_train)\n",
        "    y_pred_svm = svm.predict(X_test)\n",
        "\n",
        "    print('SVM classification report for test size',  test_size)\n",
        "    print(classification_report(y_test, y_pred_svm))\n",
        "    print('Accuracy Achieved:', accuracy_score(y_test, y_pred_svm) * 100)\n",
        "  \n",
        "    print('\\n\\nSVM Confusion Matrix')\n",
        "    sns.heatmap(confusion_matrix(y_test, y_pred_svm), annot=True, fmt='g', cmap='Blues')\n",
        "\n",
        "  elif classifier == 'lr':   \n",
        "    clf = LogisticRegression(random_state=0).fit(X_train, y_train)\n",
        "    y_pred_lr = clf.predict(X_test)\n",
        "    \n",
        "    print('Logistic Regression classification report for test size',  test_size)\n",
        "    print(classification_report(y_test, y_pred_lr))\n",
        "    print('Accuracy Achieved:', accuracy_score(y_test, y_pred_lr) * 100)\n",
        "\n",
        "    print('\\n\\nLogistic regression Confusion Matrix')\n",
        "    sns.heatmap(confusion_matrix(y_test, y_pred_lr),annot=True, fmt='g', cmap='Blues')\n",
        "\n",
        "  elif classifier == 'xgboost':\n",
        "    xgb = XGBClassifier()\n",
        "    xgb.fit(X_train, y_train)\n",
        "    y_pred_xgb = xgb.predict(X_test)\n",
        "\n",
        "    print('XGB classification report for test size',  test_size)\n",
        "    print(classification_report(y_test, y_pred_xgb))\n",
        "    print('Accuracy Achieved:', accuracy_score(y_test,y_pred_xgb) * 100)\n",
        "\n",
        "    print('\\n\\nXGBoost Confusion Matrix')\n",
        "    sns.heatmap(confusion_matrix(y_test, y_pred_xgb),annot=True, fmt='g', cmap='Blues')\n",
        "\n",
        "  elif classifier == 'knn' or classifier == 'KNN':    \n",
        "    knn = KNeighborsClassifier(n_neighbors = 5)\n",
        "    knn.fit(X_train,y_train)\n",
        "    y_pred_knn = knn.predict(X_test)\n",
        "\n",
        "    print('KNN classification report for test size',  test_size)\n",
        "    print(classification_report(y_test,y_pred_knn))\n",
        "    print('Accuracy Achieved:', accuracy_score(y_test,y_pred_knn) * 100)\n",
        "    \n",
        "    print('\\n\\nKNN Confusion Matrix')\n",
        "    sns.heatmap(confusion_matrix(y_test,y_pred_knn),annot=True, fmt='g', cmap='Blues')"
      ],
      "execution_count": 14,
      "outputs": []
    },
    {
      "cell_type": "markdown",
      "metadata": {
        "id": "Q0QXGc2O7ZsG"
      },
      "source": [
        "# Visualization"
      ]
    },
    {
      "cell_type": "code",
      "metadata": {
        "colab": {
          "base_uri": "https://localhost:8080/",
          "height": 507
        },
        "id": "IpDycTbxbIq1",
        "outputId": "8b9a30c0-83d0-4b51-9a21-a9254e3d1dcd"
      },
      "source": [
        "classifiers('gnb', X, y, 0.2)"
      ],
      "execution_count": 15,
      "outputs": [
        {
          "output_type": "stream",
          "name": "stdout",
          "text": [
            "Gaussian Naive Bayes classification report for test size 0.2\n",
            "              precision    recall  f1-score   support\n",
            "\n",
            "         0.0       0.83      0.92      0.87        26\n",
            "         1.0       0.94      0.86      0.90        35\n",
            "\n",
            "    accuracy                           0.89        61\n",
            "   macro avg       0.88      0.89      0.88        61\n",
            "weighted avg       0.89      0.89      0.89        61\n",
            "\n",
            "Accuracy Achieved: 88.52459016393442\n",
            "\n",
            "\n",
            "Gaussian Naive Bayes Confusion Matrix\n"
          ]
        },
        {
          "output_type": "display_data",
          "data": {
            "image/png": "[encoded data removed]",
            "text/plain": [
              "<Figure size 432x288 with 2 Axes>"
            ]
          },
          "metadata": {
            "needs_background": "light"
          }
        }
      ]
    },
    {
      "cell_type": "code",
      "metadata": {
        "colab": {
          "base_uri": "https://localhost:8080/",
          "height": 507
        },
        "id": "EB_bJfyCtY8n",
        "outputId": "a88b5ca8-8cf4-4c0e-ae25-b2bdefb492ed"
      },
      "source": [
        "classifiers('svm', X, y, 0.2)"
      ],
      "execution_count": 16,
      "outputs": [
        {
          "output_type": "stream",
          "name": "stdout",
          "text": [
            "SVM classification report for test size 0.2\n",
            "              precision    recall  f1-score   support\n",
            "\n",
            "         0.0       0.88      0.75      0.81        28\n",
            "         1.0       0.81      0.91      0.86        33\n",
            "\n",
            "    accuracy                           0.84        61\n",
            "   macro avg       0.84      0.83      0.83        61\n",
            "weighted avg       0.84      0.84      0.83        61\n",
            "\n",
            "Accuracy Achieved: 83.60655737704919\n",
            "\n",
            "\n",
            "SVM Confusion Matrix\n"
          ]
        },
        {
          "output_type": "display_data",
          "data": {
            "image/png": "[encoded data removed]",
            "text/plain": [
              "<Figure size 432x288 with 2 Axes>"
            ]
          },
          "metadata": {
            "needs_background": "light"
          }
        }
      ]
    },
    {
      "cell_type": "code",
      "metadata": {
        "colab": {
          "base_uri": "https://localhost:8080/",
          "height": 503
        },
        "id": "B75h-9pPtePU",
        "outputId": "8155abb5-f4a8-42f9-8e04-420ab1248bcd"
      },
      "source": [
        "classifiers('lr', X, y, 0.2)"
      ],
      "execution_count": 33,
      "outputs": [
        {
          "output_type": "stream",
          "name": "stdout",
          "text": [
            "Logistic Regression classification report for test size 0.2\n",
            "              precision    recall  f1-score   support\n",
            "\n",
            "         0.0       1.00      0.73      0.84        33\n",
            "         1.0       0.76      1.00      0.86        28\n",
            "\n",
            "    accuracy                           0.85        61\n",
            "   macro avg       0.88      0.86      0.85        61\n",
            "weighted avg       0.89      0.85      0.85        61\n",
            "\n",
            "Accuracy Achieved: 85.24590163934425\n",
            "\n",
            "\n",
            "Logistic regression Confusion Matrix\n"
          ]
        },
        {
          "output_type": "display_data",
          "data": {
            "image/png": "[encoded data removed]",
            "text/plain": [
              "<Figure size 432x288 with 2 Axes>"
            ]
          },
          "metadata": {
            "needs_background": "light"
          }
        }
      ]
    },
    {
      "cell_type": "code",
      "metadata": {
        "colab": {
          "base_uri": "https://localhost:8080/",
          "height": 503
        },
        "id": "hFMMe1X0tinP",
        "outputId": "739ed108-a0da-4f7f-dc3e-97a0fb1a2c0e"
      },
      "source": [
        "classifiers('xgboost', X, y, 0.2)"
      ],
      "execution_count": 29,
      "outputs": [
        {
          "output_type": "stream",
          "name": "stdout",
          "text": [
            "XGB classification report for test size 0.2\n",
            "              precision    recall  f1-score   support\n",
            "\n",
            "         0.0       0.84      0.81      0.82        26\n",
            "         1.0       0.86      0.89      0.87        35\n",
            "\n",
            "    accuracy                           0.85        61\n",
            "   macro avg       0.85      0.85      0.85        61\n",
            "weighted avg       0.85      0.85      0.85        61\n",
            "\n",
            "Accuracy Achieved: 85.24590163934425\n",
            "\n",
            "\n",
            "XGBoost Confusion Matrix\n"
          ]
        },
        {
          "output_type": "display_data",
          "data": {
            "image/png": "[encoded data removed]",
            "text/plain": [
              "<Figure size 432x288 with 2 Axes>"
            ]
          },
          "metadata": {
            "needs_background": "light"
          }
        }
      ]
    },
    {
      "cell_type": "markdown",
      "metadata": {
        "id": "kzaX_qkjIY4N"
      },
      "source": [
        "#Machine Learning and Neural Net"
      ]
    },
    {
      "cell_type": "code",
      "metadata": {
        "id": "4mwgiAbcHCxH"
      },
      "source": [
        "# Activation function\n",
        "def sigmoid(x):\n",
        "  return 1 / (1 + np.exp(-x))\n",
        "\n",
        "def derivativeSigmoid(x):\n",
        "  return np.exp(-x) / ((np.exp(-x) + 1) ** 2)"
      ],
      "execution_count": 19,
      "outputs": []
    },
    {
      "cell_type": "code",
      "metadata": {
        "colab": {
          "base_uri": "https://localhost:8080/"
        },
        "id": "34BuxIMHIdmk",
        "outputId": "cd9ebca1-8e6d-4919-cce5-01fd8a4544c5"
      },
      "source": [
        "data = df.iloc[0:242,:]\n",
        "data.shape"
      ],
      "execution_count": 20,
      "outputs": [
        {
          "output_type": "execute_result",
          "data": {
            "text/plain": [
              "(242, 14)"
            ]
          },
          "metadata": {},
          "execution_count": 20
        }
      ]
    },
    {
      "cell_type": "code",
      "metadata": {
        "id": "5_NAsegkIgQ-"
      },
      "source": [
        "data2 = data.T\n",
        "# shuffle_data = data2[:,np.random.permutation(data2.shape[1])]\n",
        "data2 = data2.to_numpy()"
      ],
      "execution_count": 21,
      "outputs": []
    },
    {
      "cell_type": "markdown",
      "metadata": {
        "id": "Da6sXaiKIkXH"
      },
      "source": [
        "# Linear Model Perceptron\n"
      ]
    },
    {
      "cell_type": "code",
      "metadata": {
        "id": "LKCM3v-7IilI"
      },
      "source": [
        "def linear_model():\n",
        "  true_predict = 0\n",
        "  w = np.zeros([14,1])\n",
        "  bias = np.random.rand(1,1)\n",
        "  lr = 0.3\n",
        "  errors = 0\n",
        "  mse = []\n",
        "  epochs = 100\n",
        "  for epoch in range(0,epochs):\n",
        "    shuffle_data = data2[:,np.random.permutation(data2.shape[1])]\n",
        "    true_predict = 0\n",
        "    errors = 0 \n",
        "    e = np.zeros((data2.shape[1],1))\n",
        "\n",
        "    for i in range(0,data2.shape[1]):\n",
        "\n",
        "      # Merging 1 to training data\n",
        "      x =  np.vstack((1,shuffle_data[0:13, i].reshape(13,1)))\n",
        "      \n",
        "      train_y = shuffle_data[-1,i]\n",
        "    \n",
        "      # Activation function applie\n",
        "      y_hat = np.sign((w.T @ x))\n",
        "      y2 = -1\n",
        "      if train_y == 0:\n",
        "        train_y = y2\n",
        "\n",
        "      error = train_y - y_hat\n",
        "\n",
        "      # Collecing error for single epoch\n",
        "      e[i] = error\n",
        "      w  = w + (lr * error * x)\n",
        "      bias = lr * error\n",
        "      if y_hat ==  train_y:\n",
        "        \n",
        "        true_predict += 1\n",
        "      else :\n",
        "        errors += 1\n",
        "    # Finding the mean square error     \n",
        "    mse.append(np.average(e**2))\n",
        "    # print('accuracy : '+ str(true_predict/data2.shape[1]))\n",
        "\n",
        "    \n",
        "  plt.xlabel('Learning curve')\n",
        "  plt.title('learning curve')\n",
        "  plt.ylabel('MSE')\n",
        "  plt.plot(range(epochs),mse) \n",
        "\n",
        "  # Testing \n",
        "  true_prediction = 0\n",
        "  data_test = df.iloc[243:303,:]\n",
        "  data_test = data_test.to_numpy()\n",
        "  data_test = data_test.T\n",
        "  for i in range(data_test.shape[1]):\n",
        "    test_x =  np.vstack((1,data_test[0:13, i].reshape(13,1)))\n",
        "    test_y = data_test[-1,i]\n",
        "    y_hat = np.sign((w.T @ test_x))\n",
        "\n",
        "    y2 = -1\n",
        "  \n",
        "    if test_y == 0:\n",
        "      test_y = -1\n",
        "  \n",
        "    if y_hat ==  test_y:\n",
        "      true_prediction += 1\n",
        "  # print(true_prediction)\n",
        "  print('Perceptron of linear model result')\n",
        "  print('Testing Accuracy: ' +str(true_prediction/data_test.shape[1] * 100))"
      ],
      "execution_count": 22,
      "outputs": []
    },
    {
      "cell_type": "markdown",
      "metadata": {
        "id": "pqQh4cwPIsHt"
      },
      "source": [
        "# Backward Propagation"
      ]
    },
    {
      "cell_type": "code",
      "metadata": {
        "id": "_1k0GPCfIrSK"
      },
      "source": [
        "def backwardPropagation():\n",
        "  data = df.iloc[0:242,:]\n",
        "  layer1_neuron = 50\n",
        "  layer2_neuron = 50\n",
        "  layer3_neuron = 50\n",
        "  layer4_neuron = 50\n",
        "  training_acc = 0\n",
        "  eta1 = 0.6\n",
        "  eta2 = 0.1\n",
        "  eta3 = 0.09\n",
        "  eta4 = 0.05\n",
        "  eta5 = 0.01\n",
        "\n",
        "  new_output = []\n",
        "\n",
        "  weight1 = np.random.randn(data.shape[1] - 1,layer1_neuron)\n",
        "  weight2 = np.random.randn(layer1_neuron,layer2_neuron)\n",
        "  weight3 = np.random.randn(layer2_neuron,layer3_neuron)\n",
        "  weight4 = np.random.randn(layer3_neuron,layer4_neuron)\n",
        "  weight5 = np.random.randn(layer4_neuron,1)\n",
        "\n",
        "  # initialize bias\n",
        "  bias1 = np.random.randn(1, layer1_neuron)\n",
        "  bias2 = np.random.randn(1, layer2_neuron)\n",
        "  bias3 = np.random.randn(1, layer3_neuron)\n",
        "  bias4 = np.random.randn(1, layer4_neuron)\n",
        "  bias5 = np.random.randn(1, 1)\n",
        "\n",
        "  for i in range(1,10000):\n",
        "    new_output = []\n",
        "    if i%50 == 0:\n",
        "      # print(i,' iteration completed')\n",
        "      \n",
        "      shuffled_data = data.iloc[np.random.permutation(data.shape[0]), : ].to_numpy()\n",
        "\n",
        "      # shuffle_seq = np.random.permutation(data.shape[0])  # numpy array of generated random values\n",
        "      # shuffled_data = data[shuffle_seq, :]  # randomly select the rows from the train dataset\n",
        "\n",
        "      inputData = shuffled_data[:, :-1]\n",
        "      outputData = shuffled_data[:, -1].reshape(inputData.shape[0],1)\n",
        "\n",
        "      pre1 = np.dot(inputData, weight1) + bias1\n",
        "      output1 = sigmoid(pre1)\n",
        "      \n",
        "      pre2 = np.dot(output1, weight2) + bias2\n",
        "      output2 = sigmoid(pre2)\n",
        "      \n",
        "      pre3 = np.dot(output2, weight3) + bias3\n",
        "      output3 = sigmoid(pre3)\n",
        "      \n",
        "      pre4 = np.dot(output3, weight4) + bias4\n",
        "      output4 = sigmoid(pre4)\n",
        "      \n",
        "      pre5 = np.dot(output4, weight5) + bias5\n",
        "      output5 = sigmoid(pre5)\n",
        "\n",
        "      #------------------------------ Feed Forward output ----------------------------\n",
        "      # print(output5)\n",
        "      #-----------------------------Back Propagation --------------------------------\n",
        "      deltaOutput5 = (output5 - outputData) * derivativeSigmoid(pre5)\n",
        "        \n",
        "      deltaOutput4 = deltaOutput5.dot(weight5.T) * derivativeSigmoid(pre4)\n",
        "    \n",
        "      deltaOutput3 = deltaOutput4.dot(weight4.T) * derivativeSigmoid(pre3)\n",
        "    \n",
        "      deltaOutput2 = deltaOutput3.dot(weight3.T) * derivativeSigmoid(pre2)\n",
        "\n",
        "      deltaOutput1 = deltaOutput2.dot(weight2.T) * derivativeSigmoid(pre1)\n",
        "    \n",
        "      N = outputData.size\n",
        "\n",
        "      \n",
        "      weight1 -= eta1 * ((inputData.T @ deltaOutput1)/N)\n",
        "      weight2 -= eta2 * ((output1.T @ deltaOutput2)/N)\n",
        "      weight3 -= eta3 * ((output2.T @ deltaOutput3)/N)\n",
        "      weight4 -= eta4 * ((output3.T @ deltaOutput4)/N)\n",
        "      weight5 -= eta5 * ((output4.T @ deltaOutput5)/N)\n",
        "\n",
        "      listofweight = [weight1,weight2,weight3,weight4,weight5]\n",
        "      listofbias = [bias1,bias2,bias3,bias4,bias5]\n",
        "\n",
        "      for i in output5:\n",
        "        if i[0] > 0.5:\n",
        "          new_output.append([1.])\n",
        "        else:\n",
        "          new_output.append([0.])\n",
        "      # new_output = np.array(new_output)\n",
        "      diff = outputData - new_output\n",
        "      diff = diff ** 2\n",
        "      numberofone = (diff==1).sum()\n",
        "  training_acc  = ((1-(numberofone/outputData.shape[0]))*100)\n",
        "  print(\"Training Accuracy ----> \",((1-(numberofone/outputData.shape[0]))*100), \"%\")\n",
        "\n",
        "      # return listofweight ,listofbias\n",
        "\n",
        "  data_test = df.iloc[243:303,:]\n",
        "  data = data_test.to_numpy()\n",
        "\n",
        "  inputData = data[:, :-1]\n",
        "  outputData = data[:, -1].reshape(inputData.shape[0], 1)\n",
        "\n",
        "  new_output = []\n",
        "\n",
        "\n",
        "  output1 = sigmoid(np.matmul(inputData, weight1) + bias1)\n",
        "  output2 = sigmoid(np.matmul(output1, weight2) + bias2)\n",
        "  output3 = sigmoid(np.matmul(output2, weight3) + bias3)\n",
        "  output4 = sigmoid(np.matmul(output3, weight4) + bias4)\n",
        "  output5 = sigmoid(np.matmul(output4, weight5) + bias5)\n",
        "  # print(output5)\n",
        "\n",
        "  for i in output5:\n",
        "    if i[0] > 0.5:\n",
        "        new_output.append([1.])\n",
        "    else:\n",
        "        new_output.append([0.])\n",
        "  new_output = np.array(new_output)\n",
        "  diff = outputData - new_output\n",
        "  diff = diff ** 2\n",
        "  numberofone = (diff==1).sum()\n",
        "  print(\"Testing Accuracy ----> \",((1-(numberofone/outputData.shape[0]))*100), \"%\")"
      ],
      "execution_count": 23,
      "outputs": []
    },
    {
      "cell_type": "code",
      "metadata": {
        "id": "g8E712rZIzPK"
      },
      "source": [
        "def neuralNet(algorithm):\n",
        "   \n",
        "  if algorithm == 'perceptron' or algorithm == 'linear_model':\n",
        "    linear_model()  \n",
        "   \n",
        "  elif algorithm == 'backwardpropagation' or algorithm == 'bp':\n",
        "    print('Backward Propagation Results')\n",
        "    backwardPropagation()"
      ],
      "execution_count": 24,
      "outputs": []
    },
    {
      "cell_type": "code",
      "metadata": {
        "colab": {
          "base_uri": "https://localhost:8080/"
        },
        "id": "vaVtlapwI1an",
        "outputId": "9e29f84e-9193-4862-8fc4-998827f8d679"
      },
      "source": [
        "neuralNet('bp')"
      ],
      "execution_count": 25,
      "outputs": [
        {
          "output_type": "stream",
          "name": "stdout",
          "text": [
            "Backward Propagation Results\n",
            "Training Accuracy ---->  82.64462809917356 %\n",
            "Testing Accuracy ---->  81.66666666666667 %\n"
          ]
        }
      ]
    },
    {
      "cell_type": "markdown",
      "metadata": {
        "id": "juZRrdFRI8no"
      },
      "source": [
        "# Linear model perceptron"
      ]
    },
    {
      "cell_type": "code",
      "metadata": {
        "colab": {
          "base_uri": "https://localhost:8080/",
          "height": 329
        },
        "id": "ToBwyMtMI3Rb",
        "outputId": "ce852354-4608-4995-f4d8-dee9fb2df8b6"
      },
      "source": [
        "neuralNet('perceptron')"
      ],
      "execution_count": 26,
      "outputs": [
        {
          "output_type": "stream",
          "name": "stdout",
          "text": [
            "Perceptron of linear model result\n",
            "Testing Accuracy: 76.66666666666667\n"
          ]
        },
        {
          "output_type": "display_data",
          "data": {
            "image/png": "[encoded data removed]",
            "text/plain": [
              "<Figure size 432x288 with 1 Axes>"
            ]
          },
          "metadata": {
            "needs_background": "light"
          }
        }
      ]
    }
  ]
}